{
 "cells": [
  {
   "cell_type": "markdown",
   "metadata": {},
   "source": [
    "# Day 1"
   ]
  },
  {
   "cell_type": "code",
   "execution_count": 1,
   "metadata": {},
   "outputs": [
    {
     "name": "stdout",
     "output_type": "stream",
     "text": [
      "2.06 µs ± 58.8 ns per loop (mean ± std. dev. of 7 runs, 100000 loops each)\n",
      "964 µs ± 41.6 µs per loop (mean ± std. dev. of 7 runs, 1000 loops each)\n",
      "Part 1: 788739\n",
      "Part 2: 178724430\n"
     ]
    }
   ],
   "source": [
    "with open('input1a.txt', 'r') as f:\n",
    "    inputs=f.readlines()\n",
    "inputs=set([int(x) for x in inputs])\n",
    "\n",
    "def find_sum(inputs, sum_to):\n",
    "    while inputs:\n",
    "        x=inputs.pop()\n",
    "        y=sum_to-x\n",
    "        if y in inputs:\n",
    "            return [x,y]\n",
    "\n",
    "def find_sum_three(inputs, sum_to):\n",
    "    while inputs:\n",
    "        x=inputs.pop()\n",
    "        foo=inputs.copy()\n",
    "        r=find_sum(foo, sum_to-x)\n",
    "        if r:\n",
    "            y,z=r\n",
    "            return [x,y,z]\n",
    "        \n",
    "%timeit find_sum(inputs.copy(), 2020)\n",
    "%timeit find_sum_three(inputs.copy(), 2020)\n",
    "\n",
    "x,y=find_sum(inputs.copy(), 2020)\n",
    "print(f'Part 1: {x*y}')\n",
    "x,y,z=find_sum_three(inputs.copy(),2020)\n",
    "print(f'Part 2: {x*y*z}')"
   ]
  },
  {
   "cell_type": "markdown",
   "metadata": {},
   "source": [
    "Previous method was using lists, but that was slower than using a set (and the rest of the code was the same). See timings here.\n",
    "\n",
    "*Note: The method with sets would fail if the results we are looking for have any duplicate numbers, as we just get rid of them when taking a set*"
   ]
  },
  {
   "cell_type": "code",
   "execution_count": 2,
   "metadata": {},
   "outputs": [
    {
     "name": "stdout",
     "output_type": "stream",
     "text": [
      "175 µs ± 56.3 µs per loop (mean ± std. dev. of 7 runs, 10000 loops each)\n",
      "16.1 ms ± 659 µs per loop (mean ± std. dev. of 7 runs, 100 loops each)\n"
     ]
    }
   ],
   "source": [
    "with open('input1a.txt', 'r') as f:\n",
    "    inputs=f.readlines()\n",
    "inputs=[int(x) for x in inputs]\n",
    "        \n",
    "%timeit find_sum(inputs.copy(), 2020)\n",
    "%timeit find_sum_three(inputs.copy(), 2020)"
   ]
  },
  {
   "cell_type": "markdown",
   "metadata": {},
   "source": [
    "# Day 2"
   ]
  },
  {
   "cell_type": "code",
   "execution_count": 3,
   "metadata": {},
   "outputs": [
    {
     "name": "stdout",
     "output_type": "stream",
     "text": [
      "Part 1: 460\n"
     ]
    }
   ],
   "source": [
    "import re\n",
    "with open('input2.txt', 'r') as f:\n",
    "    inputs=f.read()\n",
    "\n",
    "line_pattern=re.compile('(\\d+)\\-(\\d+) (\\w)\\: (\\w+)')\n",
    "matches=line_pattern.findall(inputs)\n",
    "\n",
    "count=0\n",
    "for lower, upper, char, password in matches:\n",
    "    no_of_occurences=password.count(char)\n",
    "    if int(lower)<=no_of_occurences<=int(upper):\n",
    "        count+=1\n",
    "        \n",
    "print(f'Part 1: {count}')"
   ]
  },
  {
   "cell_type": "code",
   "execution_count": 4,
   "metadata": {},
   "outputs": [
    {
     "name": "stdout",
     "output_type": "stream",
     "text": [
      "Part 2: 251\n"
     ]
    }
   ],
   "source": [
    "count=0\n",
    "for lower, upper, char, password in matches:\n",
    "    if (password[int(lower)-1]==char) != (password[int(upper)-1]==char):\n",
    "        count+=1\n",
    "        \n",
    "print(f'Part 2: {count}')"
   ]
  },
  {
   "cell_type": "markdown",
   "metadata": {},
   "source": [
    "# Day 3"
   ]
  },
  {
   "cell_type": "code",
   "execution_count": 5,
   "metadata": {},
   "outputs": [
    {
     "name": "stdout",
     "output_type": "stream",
     "text": [
      "Part 1: 228\n"
     ]
    }
   ],
   "source": [
    "with open('input3.txt', 'r') as f:\n",
    "    inputs=f.read().splitlines() \n",
    "    \n",
    "def count_trees(slope, inputs):\n",
    "    position=0\n",
    "    counter=0\n",
    "    repetition=len(inputs[0])\n",
    "    for line in inputs[::slope[1]]:\n",
    "        if line[position]=='#':\n",
    "            counter+=1\n",
    "        position=(position+slope[0])%repetition\n",
    "    return counter\n",
    "\n",
    "print(f'Part 1: {count_trees([3,1],inputs)}')"
   ]
  },
  {
   "cell_type": "code",
   "execution_count": 6,
   "metadata": {},
   "outputs": [
    {
     "name": "stdout",
     "output_type": "stream",
     "text": [
      "Part 2: 6818112000\n"
     ]
    }
   ],
   "source": [
    "slopes=[[1,1],[3,1],[5,1],[7,1],[1,2]]\n",
    "\n",
    "result=1\n",
    "for slope in slopes:\n",
    "    result*=count_trees(slope, inputs)\n",
    "    \n",
    "print(f'Part 2: {result}')"
   ]
  },
  {
   "cell_type": "markdown",
   "metadata": {},
   "source": [
    "# Day 4"
   ]
  },
  {
   "cell_type": "code",
   "execution_count": 7,
   "metadata": {},
   "outputs": [
    {
     "name": "stdout",
     "output_type": "stream",
     "text": [
      "Part 1: 219\n"
     ]
    }
   ],
   "source": [
    "required_fields={'byr', 'iyr', 'eyr', 'hgt', 'hcl', 'ecl', 'pid'}\n",
    "with open('input4.txt', 'r') as f:\n",
    "    inputs=f.read().split('\\n\\n') \n",
    "\n",
    "fields=re.compile('(\\w{3}):')\n",
    "validator=[required_fields.issubset(set(fields.findall(x))) for x in inputs]\n",
    "print(f'Part 1: {sum(validator)}')"
   ]
  },
  {
   "cell_type": "code",
   "execution_count": 8,
   "metadata": {},
   "outputs": [
    {
     "name": "stdout",
     "output_type": "stream",
     "text": [
      "Part 2: 127\n"
     ]
    }
   ],
   "source": [
    "fields=re.compile(\n",
    "'(?=.*byr:(?:19[2-9][0-9]|200[0-2])(?:\\s|$))'+  # between 1920 and 2002\n",
    "'(?=.*iyr:(?:201[0-9]|2020)(?:\\s|$))'+          # between 2010 and 2020\n",
    "'(?=.*eyr:(?:202[0-9]|2030)(?:\\s|$))'+          # between 2020 and 2030\n",
    "'(?=.*hcl:#[0-9a-f]{6}(?:\\s|$))'+               # #xxxxxx where x is a digit or between a and f\n",
    "'(?=.*ecl:(?:amb|blu|brn|gry|grn|hzl|oth)(?:\\s|$))'+ # one of the prewritten strings\n",
    "'(?=.*pid:\\d{9}(?:\\s|$))'+                      # 9 digits including leading 0s\n",
    "'(?=.*hgt:(?:1(?:[5-8]\\d|9[0-3])cm|(?:59|6\\d|7[0-6])in)(?:\\s|$))' # <x>cm or <y>in, <x> between 150 and 193, <y> between 59 and 76\n",
    ",re.DOTALL)\n",
    "\n",
    "validator=[fields.match(x) is not None for x in inputs]\n",
    "print(f'Part 2: {sum(validator)}')"
   ]
  },
  {
   "cell_type": "markdown",
   "metadata": {},
   "source": [
    "# Day 5"
   ]
  },
  {
   "cell_type": "code",
   "execution_count": 9,
   "metadata": {},
   "outputs": [
    {
     "name": "stdout",
     "output_type": "stream",
     "text": [
      "Part 1: 996\n",
      "Part 2: 671\n"
     ]
    }
   ],
   "source": [
    "with open('input5.txt', 'r') as f:\n",
    "    inputs=f.read()\n",
    "    \n",
    "to_binary=inputs.replace('F','0').replace('B','1').replace('L','0').replace('R','1')\n",
    "to_ids=[int(x,base=2) for x in to_binary.split('\\n') if x]\n",
    "\n",
    "missing_number=set(range(min(to_ids),max(to_ids))).difference(to_ids).pop()\n",
    "\n",
    "print(f'Part 1: {max(to_ids)}')\n",
    "print(f'Part 2: {missing_number}')"
   ]
  },
  {
   "cell_type": "markdown",
   "metadata": {},
   "source": [
    "# Day 6"
   ]
  },
  {
   "cell_type": "code",
   "execution_count": 10,
   "metadata": {},
   "outputs": [
    {
     "name": "stdout",
     "output_type": "stream",
     "text": [
      "Part 1: 6542\n",
      "Part 2: 3299\n"
     ]
    }
   ],
   "source": [
    "with open('input6.txt', 'r') as f:\n",
    "    inputs=f.read().split('\\n\\n')\n",
    "\n",
    "def find_number_of_agreements(i,comparaison):\n",
    "    return len(comparaison(*[set(x) for x in i.split('\\n') if x]))\n",
    "\n",
    "result1=sum([find_number_of_agreements(i,set.union) for i in inputs])\n",
    "result2=sum([find_number_of_agreements(i,set.intersection) for i in inputs])\n",
    "\n",
    "print(f'Part 1: {result1}')\n",
    "print(f'Part 2: {result2}')"
   ]
  },
  {
   "cell_type": "markdown",
   "metadata": {},
   "source": [
    "# Day 7"
   ]
  },
  {
   "cell_type": "code",
   "execution_count": 11,
   "metadata": {},
   "outputs": [],
   "source": [
    "with open('input7.txt', 'r') as f:\n",
    "    inputs=f.read()"
   ]
  },
  {
   "cell_type": "code",
   "execution_count": 12,
   "metadata": {},
   "outputs": [
    {
     "name": "stdout",
     "output_type": "stream",
     "text": [
      "Part 1: 296\n",
      "CPU times: user 286 ms, sys: 6.09 ms, total: 292 ms\n",
      "Wall time: 317 ms\n"
     ]
    }
   ],
   "source": [
    "%%time\n",
    "def find_containing_bags_faster(c):\n",
    "    c=\"(?:\"+'|'.join(c)+\")\"\n",
    "    pattern=re.compile(f'(\\w+ \\w+) bags contain [\\w ,]*{c}')\n",
    "    containing_bags=set(pattern.findall(inputs))\n",
    "    return containing_bags\n",
    "    \n",
    "possibilities={'shiny gold'}\n",
    "all_possibilities=set()\n",
    "while possibilities:\n",
    "    added_bags=find_containing_bags_faster(possibilities)\n",
    "    possibilities=added_bags.difference(all_possibilities)\n",
    "    all_possibilities.update(added_bags)\n",
    "    \n",
    "print(f'Part 1: {len(all_possibilities)}')"
   ]
  },
  {
   "cell_type": "code",
   "execution_count": 13,
   "metadata": {},
   "outputs": [
    {
     "name": "stdout",
     "output_type": "stream",
     "text": [
      "Part 1: 296\n",
      "CPU times: user 3.43 s, sys: 33.4 ms, total: 3.46 s\n",
      "Wall time: 3.59 s\n"
     ]
    }
   ],
   "source": [
    "%%time\n",
    "def find_containing_bags(c):\n",
    "    pattern=re.compile(f'(\\w+ \\w+) bags contain [\\w ,]*{c}')\n",
    "    containing_bags=set(pattern.findall(inputs))\n",
    "    return containing_bags\n",
    "    \n",
    "possibilities={'shiny gold'}\n",
    "all_possibilities=set()\n",
    "while possibilities:\n",
    "    added_bags=set.union(*[find_containing_bags(c) for c in possibilities])\n",
    "    possibilities=added_bags.difference(all_possibilities)\n",
    "    all_possibilities.update(added_bags)\n",
    "    \n",
    "print(f'Part 1: {len(all_possibilities)}')"
   ]
  },
  {
   "cell_type": "code",
   "execution_count": 14,
   "metadata": {},
   "outputs": [
    {
     "name": "stdout",
     "output_type": "stream",
     "text": [
      "Part 1: 296\n",
      "CPU times: user 11.2 s, sys: 105 ms, total: 11.3 s\n",
      "Wall time: 11.7 s\n"
     ]
    }
   ],
   "source": [
    "%%time\n",
    "def find_containing_bags_slower(c):\n",
    "    pattern=re.compile(f'(\\w+ \\w+) bags contain [\\w ,]*{c}')\n",
    "    containing_bags=set(pattern.findall(inputs))\n",
    "    if containing_bags:\n",
    "        all_bags=containing_bags.copy()\n",
    "        for a in containing_bags:\n",
    "            all_bags.update(find_containing_bags_slower(a))\n",
    "        return all_bags\n",
    "    else:\n",
    "        return {}\n",
    "\n",
    "result=find_containing_bags_slower('shiny gold')\n",
    "print(f\"Part 1: {len(result)}\")"
   ]
  },
  {
   "cell_type": "code",
   "execution_count": 15,
   "metadata": {},
   "outputs": [
    {
     "name": "stdout",
     "output_type": "stream",
     "text": [
      "Part 2: 9339\n"
     ]
    }
   ],
   "source": [
    "def find_number_of_contained_bags(c):\n",
    "    number=0\n",
    "    pattern=re.compile(f'{c} bags contain ([\\w\\d ,]+)')\n",
    "    containing_bags=pattern.findall(inputs)\n",
    "    if containing_bags!=['no other bags']:\n",
    "        for b in containing_bags[0].split(', '):\n",
    "            foo=b.split(' ')\n",
    "            number+=int(foo[0])*(1+find_number_of_contained_bags(foo[1]+' '+foo[2]))\n",
    "        return number\n",
    "    else:\n",
    "        return 0\n",
    "\n",
    "print(f\"Part 2: {find_number_of_contained_bags('shiny gold')}\")"
   ]
  },
  {
   "cell_type": "markdown",
   "metadata": {},
   "source": [
    "# Day 8"
   ]
  },
  {
   "cell_type": "code",
   "execution_count": 16,
   "metadata": {},
   "outputs": [
    {
     "name": "stdout",
     "output_type": "stream",
     "text": [
      "Part 1: 1262\n",
      "Part 2: 1643\n"
     ]
    }
   ],
   "source": [
    "with open('input8.txt', 'r') as f:\n",
    "    inputs=f.readlines()\n",
    "\n",
    "lines=[(x[0:3],int(x[4:])) for x in inputs]\n",
    "\n",
    "def run_program(lines):\n",
    "    acc=0\n",
    "    current_line=0\n",
    "    already_visited=set()\n",
    "    last_line=len(lines)\n",
    "\n",
    "    while current_line not in already_visited and current_line<last_line:\n",
    "        instr, nbr = lines[current_line]\n",
    "        already_visited.add(current_line)\n",
    "        if instr == \"nop\":\n",
    "            current_line+=1\n",
    "        elif instr == \"acc\":\n",
    "            acc+=nbr\n",
    "            current_line+=1\n",
    "        elif instr == \"jmp\":\n",
    "            current_line+=nbr\n",
    "    return acc, current_line>=last_line, already_visited\n",
    "\n",
    "acc, _, visited=run_program(lines)\n",
    "print(f\"Part 1: {acc}\")\n",
    "\n",
    "for i in visited:\n",
    "    new_program = lines.copy()\n",
    "    instr, nbr = new_program[i]\n",
    "    if instr == \"acc\":\n",
    "        continue\n",
    "    elif instr == \"jmp\":\n",
    "        new_program[i] = \"nop\", nbr\n",
    "    elif instr == \"nop\":\n",
    "        new_program[i] = \"jmp\", nbr\n",
    "    acc, finished, _ = run_program(new_program)\n",
    "    if finished:\n",
    "        break\n",
    "        \n",
    "print(f\"Part 2: {acc}\")"
   ]
  },
  {
   "cell_type": "markdown",
   "metadata": {},
   "source": [
    "# Day 9"
   ]
  },
  {
   "cell_type": "code",
   "execution_count": 17,
   "metadata": {},
   "outputs": [
    {
     "name": "stdout",
     "output_type": "stream",
     "text": [
      "Part 1: 31161678\n",
      "Part 2: 5453868\n"
     ]
    }
   ],
   "source": [
    "with open('input9.txt', 'r') as f:\n",
    "    inputs=f.readlines()\n",
    "    \n",
    "inputs=[int(x) for x in inputs]\n",
    "\n",
    "def find_invalid_nbr(inputs):\n",
    "    for i in range(25,len(inputs)):\n",
    "        prev_numbers=set(inputs[i-25:i])\n",
    "        current_number=inputs[i]\n",
    "        if not find_sum(prev_numbers, current_number):\n",
    "            return current_number\n",
    "\n",
    "        \n",
    "def break_encryption(inputs, invalid_number):\n",
    "    i=len(inputs)\n",
    "    for j in range(0,i):\n",
    "        for k in range(j+1,i):\n",
    "            r=set(inputs[j:k])\n",
    "            if sum(r)==invalid_number:\n",
    "                return min(r)+max(r)\n",
    "            if sum(r)>invalid_number:\n",
    "                break\n",
    "\n",
    "invalid_number=find_invalid_nbr(inputs)\n",
    "print(f'Part 1: {invalid_number}')\n",
    "print (f'Part 2: {break_encryption(inputs,invalid_number)}')"
   ]
  },
  {
   "cell_type": "markdown",
   "metadata": {},
   "source": [
    "# Day 10"
   ]
  },
  {
   "cell_type": "code",
   "execution_count": 18,
   "metadata": {},
   "outputs": [
    {
     "name": "stdout",
     "output_type": "stream",
     "text": [
      "Part 1: 2170\n"
     ]
    }
   ],
   "source": [
    "with open('input10.txt', 'r') as f:\n",
    "    inputs=f.readlines()\n",
    "    \n",
    "inputs=[int(x) for x in inputs]\n",
    "inputs=sorted(inputs+[0,max(inputs)+3])\n",
    "differences=[x-y for x,y in zip(inputs[1:],inputs[:-1])]\n",
    "number_of_ones=differences.count(1)\n",
    "number_of_threes=differences.count(3)\n",
    "\n",
    "print(f'Part 1: {number_of_ones*number_of_threes}')"
   ]
  },
  {
   "cell_type": "code",
   "execution_count": 19,
   "metadata": {},
   "outputs": [
    {
     "name": "stdout",
     "output_type": "stream",
     "text": [
      "Part 2: 24803586664192\n"
     ]
    }
   ],
   "source": [
    "from functools import reduce\n",
    "\n",
    "#count number of consecutive ones\n",
    "p=re.compile('11+')\n",
    "cons_ones=p.findall(''.join([str(x) for x in differences]))\n",
    "number_of_consectutive_ones=[len(x) for x in cons_ones]\n",
    "\n",
    "# 1 can't be replaced -> 1 option\n",
    "# 1,1 can be replaced by 2 -> 1+1 option\n",
    "# 1,1,1 can be replaced by 2,1 or 1,2 or 3 -> 3+1 options\n",
    "# 1,1,1,1 can be replaced by 3,1 or 1,3 or 2,2 or 2,1,1 or 1,2,1 or 1,1,2 -> 6+1 options\n",
    "# 1,1,1,1,1 (not actually there) can be replaced by 311, 131, 113, 32, 23, 221, 212, 122, 2111, 1211, 1121,1112 -> 12+1 options\n",
    "\n",
    "# so for each segment of n, we have the option to replace it by f(n) options. \n",
    "# Each of these are independent, so we can just multiply them together\n",
    "\n",
    "replacement_options={2:2, 3:4, 4:7}\n",
    "options=[replacement_options[i] for i in number_of_consectutive_ones]\n",
    "print(f'Part 2: {reduce(lambda x,y:x*y, options,1)}')"
   ]
  },
  {
   "cell_type": "code",
   "execution_count": 20,
   "metadata": {
    "scrolled": true
   },
   "outputs": [
    {
     "name": "stdout",
     "output_type": "stream",
     "text": [
      "Part 2: 24803586664192\n"
     ]
    }
   ],
   "source": [
    "# A more general way to count the number of options to replace x consecutive ones\n",
    "def combos(x):\n",
    "    c=0\n",
    "    if x>2:\n",
    "        c+=combos(x-3)\n",
    "    if x>1:\n",
    "        c+=combos(x-2)\n",
    "    if x>0:\n",
    "        c+=combos(x-1)\n",
    "    else:\n",
    "        c+=1\n",
    "    return c\n",
    "\n",
    "replacement_options={}\n",
    "options=[]\n",
    "for x in number_of_consectutive_ones:\n",
    "    if x not in replacement_options:\n",
    "        replacement_options[x]=combos(x)\n",
    "    options+=[replacement_options[x]]\n",
    "    \n",
    "print(f'Part 2: {reduce(lambda x,y:x*y, options,1)}')"
   ]
  },
  {
   "cell_type": "code",
   "execution_count": 21,
   "metadata": {},
   "outputs": [
    {
     "data": {
      "text/plain": [
       "[4, 4, 4, 4, 4, 4, 4, 2, 4, 2, 4, 2, 4, 4, 2, 4, 4, 3, 3]"
      ]
     },
     "execution_count": 21,
     "metadata": {},
     "output_type": "execute_result"
    }
   ],
   "source": [
    "list(filter(lambda a: a >1, reduce(lambda l,x:[l[0]+1]+l[1:] if x==1 else [0]+l, differences,[0,0])))\n"
   ]
  },
  {
   "cell_type": "markdown",
   "metadata": {},
   "source": [
    "# Day 11"
   ]
  },
  {
   "cell_type": "code",
   "execution_count": 22,
   "metadata": {},
   "outputs": [],
   "source": [
    "with open('input11.txt', 'r') as f:\n",
    "    inputs=f.readlines()"
   ]
  },
  {
   "cell_type": "code",
   "execution_count": 23,
   "metadata": {},
   "outputs": [
    {
     "name": "stdout",
     "output_type": "stream",
     "text": [
      "Part 1: 2334\n"
     ]
    }
   ],
   "source": [
    "import numpy as np\n",
    "a=np.array([list(x)[:-1] for x in inputs])\n",
    "a=np.pad(a, 1, mode='constant',constant_values='.')\n",
    "is_seat = a!='.' \n",
    "is_occupied = (a=='#').astype(int)\n",
    "cond=True\n",
    "while cond:\n",
    "    neighbours=is_occupied[2:,1:-1]+\\\n",
    "                is_occupied[:-2,1:-1]+\\\n",
    "                is_occupied[1:-1,2:]+\\\n",
    "                is_occupied[1:-1,:-2]+\\\n",
    "                is_occupied[2:,2:]+\\\n",
    "                is_occupied[:-2,:-2]+\\\n",
    "                is_occupied[2:,:-2]+\\\n",
    "                is_occupied[:-2,2:]\n",
    "    should_empty=(is_occupied[1:-1,1:-1]==1) & (neighbours>=4) & (is_seat[1:-1,1:-1]==1)\n",
    "    should_occupy=(is_occupied[1:-1,1:-1]==0) & (neighbours==0) & (is_seat[1:-1,1:-1]==1)\n",
    "    is_occupied[1:-1,1:-1]+=should_occupy.astype(int)\n",
    "    is_occupied[1:-1,1:-1]-=should_empty.astype(int)\n",
    "    if not (should_empty.any() or should_occupy.any()):\n",
    "        cond=False\n",
    "print(f'Part 1: {np.sum(is_occupied)}')"
   ]
  },
  {
   "cell_type": "markdown",
   "metadata": {},
   "source": [
    "If a seat is empty (L) and there are no occupied seats adjacent to it, the seat becomes occupied.\n",
    "\n",
    "If a seat is occupied (#) and four or more seats adjacent to it are also occupied, the seat becomes empty.\n",
    "\n",
    "Otherwise, the seat's state does not change."
   ]
  },
  {
   "cell_type": "code",
   "execution_count": 24,
   "metadata": {},
   "outputs": [
    {
     "name": "stdout",
     "output_type": "stream",
     "text": [
      "Part 1: 2100\n",
      "CPU times: user 2.97 s, sys: 38.1 ms, total: 3.01 s\n",
      "Wall time: 3.13 s\n"
     ]
    }
   ],
   "source": [
    "%%time\n",
    "a=np.array([list(x)[:-1] for x in inputs])\n",
    "is_seat = a!='.' \n",
    "is_occupied = (a=='#')\n",
    "\n",
    "def find_neighbour(seat, direction):\n",
    "    i,j=seat\n",
    "    di,dj=direction\n",
    "    while 0<=i+di<np.size(is_seat, axis=0) and 0<=j+dj<np.size(is_seat, axis=1):\n",
    "        i+=di\n",
    "        j+=dj\n",
    "        if is_seat[i,j]:\n",
    "            return [i,j]\n",
    "\n",
    "dirs=[[1,0],[-1,0],[0,1],[0,-1], [1,1], [1,-1], [-1,1], [-1,-1]]\n",
    "neighbouring_seats={}\n",
    "for i in range(np.size(is_seat, axis=0)):\n",
    "    for j in range(np.size(is_seat, axis=1)):\n",
    "        if is_seat[i,j]:\n",
    "            neighbouring_seats[i,j]=[find_neighbour((i,j),d) for d in dirs if find_neighbour((i,j),d)]\n",
    "\n",
    "is_occupied = (a=='#').astype(int)\n",
    "changed=True\n",
    "while changed:\n",
    "    will_be_occupied=is_occupied.copy()\n",
    "    changed=False\n",
    "    for seat in neighbouring_seats:\n",
    "        i,j=seat\n",
    "        ns=neighbouring_seats[seat]\n",
    "        nbr_neighbours=sum([is_occupied[ni,nj] for ni,nj in ns])\n",
    "        if nbr_neighbours>=5 and is_occupied[i,j]:\n",
    "            will_be_occupied[i,j]=False\n",
    "            changed=True\n",
    "        elif nbr_neighbours==0 and (not is_occupied[i,j]):\n",
    "            will_be_occupied[i, j]=True\n",
    "            changed=True\n",
    "    is_occupied=will_be_occupied\n",
    "    \n",
    "print(f'Part 1: {np.sum(is_occupied)}')"
   ]
  },
  {
   "cell_type": "markdown",
   "metadata": {},
   "source": [
    "# Day 12"
   ]
  },
  {
   "cell_type": "code",
   "execution_count": 25,
   "metadata": {},
   "outputs": [
    {
     "name": "stdout",
     "output_type": "stream",
     "text": [
      "Part 1: 796\n"
     ]
    }
   ],
   "source": [
    "import math\n",
    "with open('input12.txt', 'r') as f:\n",
    "    inputs=f.readlines()\n",
    "    \n",
    "# Since we the NSWE directions don't affect which way the ship is facing, \n",
    "# we can just treat them independently and sum them together first\n",
    "# But let's start by just doing things without premature optimisation\n",
    "\n",
    "direction=0\n",
    "x=0\n",
    "y=0\n",
    "\n",
    "for instr in inputs:\n",
    "    d=instr[0]\n",
    "    n=int(instr[1:])\n",
    "    if d=='F':\n",
    "        x+=n*math.cos(math.radians(direction))\n",
    "        y+=n*math.sin(math.radians(direction))\n",
    "    if d=='L':\n",
    "        direction+=n\n",
    "    if d=='R':\n",
    "        direction-=n\n",
    "    if d=='N':\n",
    "        y+=n\n",
    "    if d=='S':\n",
    "        y-=n\n",
    "    if d=='E':\n",
    "        x+=n\n",
    "    if d=='W':\n",
    "        x-=n\n",
    "        \n",
    "print(f'Part 1: {round(abs(x)+abs(y))}')"
   ]
  },
  {
   "cell_type": "code",
   "execution_count": 26,
   "metadata": {},
   "outputs": [
    {
     "name": "stdout",
     "output_type": "stream",
     "text": [
      "Part 2: 39446\n"
     ]
    }
   ],
   "source": [
    "direction=0\n",
    "x=0\n",
    "y=0\n",
    "wx=10\n",
    "wy=1\n",
    "\n",
    "for instr in inputs:\n",
    "    d=instr[0]\n",
    "    n=int(instr[1:])\n",
    "    if d=='F':\n",
    "        x+=wx*n\n",
    "        y+=wy*n\n",
    "    if d=='L':\n",
    "        wx,wy=wx*math.cos(math.radians(n))-wy*math.sin(math.radians(n)),\\\n",
    "              wx*math.sin(math.radians(n))+wy*math.cos(math.radians(n))\n",
    "    if d=='R':\n",
    "        wx,wy=wx*math.cos(math.radians(n))+wy*math.sin(math.radians(n)),\\\n",
    "              -wx*math.sin(math.radians(n))+wy*math.cos(math.radians(n))\n",
    "    if d=='N':\n",
    "        wy+=n\n",
    "    if d=='S':\n",
    "        wy-=n\n",
    "    if d=='E':\n",
    "        wx+=n\n",
    "    if d=='W':\n",
    "        wx-=n\n",
    "        \n",
    "print(f'Part 2: {round(abs(x)+abs(y))}')"
   ]
  },
  {
   "cell_type": "code",
   "execution_count": null,
   "metadata": {},
   "outputs": [],
   "source": []
  }
 ],
 "metadata": {
  "kernelspec": {
   "display_name": "Python 3",
   "language": "python",
   "name": "python3"
  },
  "language_info": {
   "codemirror_mode": {
    "name": "ipython",
    "version": 3
   },
   "file_extension": ".py",
   "mimetype": "text/x-python",
   "name": "python",
   "nbconvert_exporter": "python",
   "pygments_lexer": "ipython3",
   "version": "3.6.10"
  }
 },
 "nbformat": 4,
 "nbformat_minor": 4
}
