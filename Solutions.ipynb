{
 "cells": [
  {
   "cell_type": "markdown",
   "metadata": {},
   "source": [
    "# Day 1"
   ]
  },
  {
   "cell_type": "code",
   "execution_count": null,
   "metadata": {},
   "outputs": [
    {
     "name": "stdout",
     "output_type": "stream",
     "text": [
      "2.41 µs ± 395 ns per loop (mean ± std. dev. of 7 runs, 100000 loops each)\n"
     ]
    }
   ],
   "source": [
    "with open('input1a.txt', 'r') as f:\n",
    "    inputs=f.readlines()\n",
    "inputs=set([int(x) for x in inputs])\n",
    "\n",
    "def find_sum(inputs, sum_to):\n",
    "    while inputs:\n",
    "        x=inputs.pop()\n",
    "        y=sum_to-x\n",
    "        if y in inputs:\n",
    "            return [x,y]\n",
    "\n",
    "def find_sum_three(inputs, sum_to):\n",
    "    while inputs:\n",
    "        x=inputs.pop()\n",
    "        foo=inputs.copy()\n",
    "        r=find_sum(foo, sum_to-x)\n",
    "        if r:\n",
    "            y,z=r\n",
    "            return [x,y,z]\n",
    "        \n",
    "%timeit find_sum(inputs.copy(), 2020)\n",
    "%timeit find_sum_three(inputs.copy(), 2020)\n",
    "\n",
    "x,y=find_sum(inputs.copy(), 2020)\n",
    "print(f'Part 1: {x*y}')\n",
    "x,y,z=find_sum_three(inputs.copy(),2020)\n",
    "print(f'Part 2: {x*y*z}')"
   ]
  },
  {
   "cell_type": "markdown",
   "metadata": {},
   "source": [
    "Previous method was using lists, but that was slower than using a set (and the rest of the code was the same). See timings here.\n",
    "\n",
    "*Note: The method with sets would fail if the results we are looking for have any duplicate numbers, as we just get rid of them when taking a set*"
   ]
  },
  {
   "cell_type": "code",
   "execution_count": null,
   "metadata": {},
   "outputs": [],
   "source": [
    "with open('input1a.txt', 'r') as f:\n",
    "    inputs=f.readlines()\n",
    "inputs=[int(x) for x in inputs]\n",
    "        \n",
    "%timeit find_sum(inputs.copy(), 2020)\n",
    "%timeit find_sum_three(inputs.copy(), 2020)"
   ]
  },
  {
   "cell_type": "markdown",
   "metadata": {},
   "source": [
    "# Day 2"
   ]
  },
  {
   "cell_type": "code",
   "execution_count": null,
   "metadata": {},
   "outputs": [],
   "source": [
    "import re\n",
    "with open('input2.txt', 'r') as f:\n",
    "    inputs=f.read()\n",
    "\n",
    "line_pattern=re.compile('(\\d+)\\-(\\d+) (\\w)\\: (\\w+)')\n",
    "matches=line_pattern.findall(inputs)\n",
    "\n",
    "count=0\n",
    "for lower, upper, char, password in matches:\n",
    "    no_of_occurences=password.count(char)\n",
    "    if int(lower)<=no_of_occurences<=int(upper):\n",
    "        count+=1\n",
    "        \n",
    "print(f'Part 1: {count}')"
   ]
  },
  {
   "cell_type": "code",
   "execution_count": null,
   "metadata": {},
   "outputs": [],
   "source": [
    "count=0\n",
    "for lower, upper, char, password in matches:\n",
    "    if (password[int(lower)-1]==char) != (password[int(upper)-1]==char):\n",
    "        count+=1\n",
    "        \n",
    "print(f'Part 2: {count}')"
   ]
  },
  {
   "cell_type": "markdown",
   "metadata": {},
   "source": [
    "# Day 3"
   ]
  },
  {
   "cell_type": "code",
   "execution_count": null,
   "metadata": {},
   "outputs": [],
   "source": [
    "with open('input3.txt', 'r') as f:\n",
    "    inputs=f.read().splitlines() \n",
    "    \n",
    "def count_trees(slope, inputs):\n",
    "    position=0\n",
    "    counter=0\n",
    "    repetition=len(inputs[0])\n",
    "    for line in inputs[::slope[1]]:\n",
    "        if line[position]=='#':\n",
    "            counter+=1\n",
    "        position=(position+slope[0])%repetition\n",
    "    return counter\n",
    "\n",
    "print(f'Part 1: {count_trees([3,1],inputs)}')"
   ]
  },
  {
   "cell_type": "code",
   "execution_count": null,
   "metadata": {},
   "outputs": [],
   "source": [
    "slopes=[[1,1],[3,1],[5,1],[7,1],[1,2]]\n",
    "\n",
    "result=1\n",
    "for slope in slopes:\n",
    "    result*=count_trees(slope, inputs)\n",
    "    \n",
    "print(f'Part 2: {result}')"
   ]
  },
  {
   "cell_type": "markdown",
   "metadata": {},
   "source": [
    "# Day 4"
   ]
  },
  {
   "cell_type": "code",
   "execution_count": null,
   "metadata": {},
   "outputs": [],
   "source": [
    "required_fields={'byr', 'iyr', 'eyr', 'hgt', 'hcl', 'ecl', 'pid'}\n",
    "with open('input4.txt', 'r') as f:\n",
    "    inputs=f.read().split('\\n\\n') \n",
    "\n",
    "fields=re.compile('(\\w{3}):')\n",
    "validator=[required_fields.issubset(set(fields.findall(x))) for x in inputs]\n",
    "print(f'Part 1: {sum(validator)}')"
   ]
  },
  {
   "cell_type": "code",
   "execution_count": null,
   "metadata": {},
   "outputs": [],
   "source": [
    "fields=re.compile(\n",
    "'(?=.*byr:(?:19[2-9][0-9]|200[0-2])(?:\\s|$))'+  # between 1920 and 2002\n",
    "'(?=.*iyr:(?:201[0-9]|2020)(?:\\s|$))'+          # between 2010 and 2020\n",
    "'(?=.*eyr:(?:202[0-9]|2030)(?:\\s|$))'+          # between 2020 and 2030\n",
    "'(?=.*hcl:#[0-9a-f]{6}(?:\\s|$))'+               # #xxxxxx where x is a digit or between a and f\n",
    "'(?=.*ecl:(?:amb|blu|brn|gry|grn|hzl|oth)(?:\\s|$))'+ # one of the prewritten strings\n",
    "'(?=.*pid:\\d{9}(?:\\s|$))'+                      # 9 digits including leading 0s\n",
    "'(?=.*hgt:(?:1(?:[5-8]\\d|9[0-3])cm|(?:59|6\\d|7[0-6])in)(?:\\s|$))' # <x>cm or <y>in, <x> between 150 and 193, <y> between 59 and 76\n",
    ",re.DOTALL)\n",
    "\n",
    "validator=[fields.match(x) is not None for x in inputs]\n",
    "print(f'Part 2: {sum(validator)}')"
   ]
  },
  {
   "cell_type": "markdown",
   "metadata": {},
   "source": [
    "# Day 5"
   ]
  },
  {
   "cell_type": "code",
   "execution_count": null,
   "metadata": {},
   "outputs": [],
   "source": [
    "with open('input5.txt', 'r') as f:\n",
    "    inputs=f.read()\n",
    "    \n",
    "to_binary=inputs.replace('F','0').replace('B','1').replace('L','0').replace('R','1')\n",
    "to_ids=[int(x,base=2) for x in to_binary.split('\\n') if x]\n",
    "\n",
    "missing_number=set(range(min(to_ids),max(to_ids))).difference(to_ids).pop()\n",
    "\n",
    "print(f'Part 1: {max(to_ids)}')\n",
    "print(f'Part 2: {missing_number}')"
   ]
  },
  {
   "cell_type": "markdown",
   "metadata": {},
   "source": [
    "# Day 6"
   ]
  },
  {
   "cell_type": "code",
   "execution_count": null,
   "metadata": {},
   "outputs": [],
   "source": [
    "with open('input6.txt', 'r') as f:\n",
    "    inputs=f.read().split('\\n\\n')\n",
    "\n",
    "def find_number_of_agreements(i,comparaison):\n",
    "    return len(comparaison(*[set(x) for x in i.split('\\n') if x]))\n",
    "\n",
    "result1=sum([find_number_of_agreements(i,set.union) for i in inputs])\n",
    "result2=sum([find_number_of_agreements(i,set.intersection) for i in inputs])\n",
    "\n",
    "print(f'Part 1: {result1}')\n",
    "print(f'Part 2: {result2}')"
   ]
  },
  {
   "cell_type": "markdown",
   "metadata": {},
   "source": [
    "# Day 7"
   ]
  },
  {
   "cell_type": "code",
   "execution_count": null,
   "metadata": {},
   "outputs": [],
   "source": [
    "with open('input7.txt', 'r') as f:\n",
    "    inputs=f.read()"
   ]
  },
  {
   "cell_type": "code",
   "execution_count": null,
   "metadata": {},
   "outputs": [],
   "source": [
    "%%time\n",
    "def find_containing_bags_faster(c):\n",
    "    c=\"(?:\"+'|'.join(c)+\")\"\n",
    "    pattern=re.compile(f'(\\w+ \\w+) bags contain [\\w ,]*{c}')\n",
    "    containing_bags=set(pattern.findall(inputs))\n",
    "    return containing_bags\n",
    "    \n",
    "possibilities={'shiny gold'}\n",
    "all_possibilities=set()\n",
    "while possibilities:\n",
    "    added_bags=find_containing_bags_faster(possibilities)\n",
    "    possibilities=added_bags.difference(all_possibilities)\n",
    "    all_possibilities.update(added_bags)\n",
    "    \n",
    "print(f'Part 1: {len(all_possibilities)}')"
   ]
  },
  {
   "cell_type": "code",
   "execution_count": null,
   "metadata": {},
   "outputs": [],
   "source": [
    "%%time\n",
    "def find_containing_bags(c):\n",
    "    pattern=re.compile(f'(\\w+ \\w+) bags contain [\\w ,]*{c}')\n",
    "    containing_bags=set(pattern.findall(inputs))\n",
    "    return containing_bags\n",
    "    \n",
    "possibilities={'shiny gold'}\n",
    "all_possibilities=set()\n",
    "while possibilities:\n",
    "    added_bags=set.union(*[find_containing_bags(c) for c in possibilities])\n",
    "    possibilities=added_bags.difference(all_possibilities)\n",
    "    all_possibilities.update(added_bags)\n",
    "    \n",
    "print(f'Part 1: {len(all_possibilities)}')"
   ]
  },
  {
   "cell_type": "code",
   "execution_count": null,
   "metadata": {},
   "outputs": [],
   "source": [
    "%%time\n",
    "def find_containing_bags_slower(c):\n",
    "    pattern=re.compile(f'(\\w+ \\w+) bags contain [\\w ,]*{c}')\n",
    "    containing_bags=set(pattern.findall(inputs))\n",
    "    if containing_bags:\n",
    "        all_bags=containing_bags.copy()\n",
    "        for a in containing_bags:\n",
    "            all_bags.update(find_containing_bags_slower(a))\n",
    "        return all_bags\n",
    "    else:\n",
    "        return {}\n",
    "\n",
    "result=find_containing_bags_slower('shiny gold')\n",
    "print(f\"Part 1: {len(result)}\")"
   ]
  },
  {
   "cell_type": "code",
   "execution_count": null,
   "metadata": {},
   "outputs": [],
   "source": [
    "def find_number_of_contained_bags(c):\n",
    "    number=0\n",
    "    pattern=re.compile(f'{c} bags contain ([\\w\\d ,]+)')\n",
    "    containing_bags=pattern.findall(inputs)\n",
    "    if containing_bags!=['no other bags']:\n",
    "        for b in containing_bags[0].split(', '):\n",
    "            foo=b.split(' ')\n",
    "            number+=int(foo[0])*(1+find_number_of_contained_bags(foo[1]+' '+foo[2]))\n",
    "        return number\n",
    "    else:\n",
    "        return 0\n",
    "\n",
    "print(f\"Part 2: {find_number_of_contained_bags('shiny gold')}\")"
   ]
  },
  {
   "cell_type": "markdown",
   "metadata": {},
   "source": [
    "# Day 8"
   ]
  },
  {
   "cell_type": "code",
   "execution_count": null,
   "metadata": {},
   "outputs": [],
   "source": [
    "with open('input8.txt', 'r') as f:\n",
    "    inputs=f.readlines()\n",
    "\n",
    "lines=[(x[0:3],int(x[4:])) for x in inputs]\n",
    "\n",
    "def run_program(lines):\n",
    "    acc=0\n",
    "    current_line=0\n",
    "    already_visited=set()\n",
    "    last_line=len(lines)\n",
    "\n",
    "    while current_line not in already_visited and current_line<last_line:\n",
    "        instr, nbr = lines[current_line]\n",
    "        already_visited.add(current_line)\n",
    "        if instr == \"nop\":\n",
    "            current_line+=1\n",
    "        elif instr == \"acc\":\n",
    "            acc+=nbr\n",
    "            current_line+=1\n",
    "        elif instr == \"jmp\":\n",
    "            current_line+=nbr\n",
    "    return acc, current_line>=last_line, already_visited\n",
    "\n",
    "acc, _, visited=run_program(lines)\n",
    "print(f\"Part 1: {acc}\")\n",
    "\n",
    "for i in visited:\n",
    "    new_program = lines.copy()\n",
    "    instr, nbr = new_program[i]\n",
    "    if instr == \"acc\":\n",
    "        continue\n",
    "    elif instr == \"jmp\":\n",
    "        new_program[i] = \"nop\", nbr\n",
    "    elif instr == \"nop\":\n",
    "        new_program[i] = \"jmp\", nbr\n",
    "    acc, finished, _ = run_program(new_program)\n",
    "    if finished:\n",
    "        break\n",
    "        \n",
    "print(f\"Part 2: {acc}\")"
   ]
  },
  {
   "cell_type": "markdown",
   "metadata": {},
   "source": [
    "# Day 9"
   ]
  },
  {
   "cell_type": "code",
   "execution_count": null,
   "metadata": {},
   "outputs": [],
   "source": [
    "with open('input9.txt', 'r') as f:\n",
    "    inputs=f.readlines()\n",
    "    \n",
    "inputs=[int(x) for x in inputs]\n",
    "\n",
    "for i in range(25,len(inputs)):\n",
    "    prev_numbers=set(inputs[i-25:i])\n",
    "    current_number=inputs[i]\n",
    "    if not find_sum(prev_numbers, current_number):\n",
    "        invalid_number=current_number\n",
    "        break\n",
    "invalid_number"
   ]
  },
  {
   "cell_type": "code",
   "execution_count": null,
   "metadata": {},
   "outputs": [],
   "source": [
    "def break_encription(inputs, invalid_number,i):\n",
    "    for j in range(0,i):\n",
    "        for k in range(j+1,i):\n",
    "            r=set(inputs[j:k])\n",
    "            if sum(r)==invalid_number:\n",
    "                return min(r)+max(r)\n",
    "break_encription(inputs,invalid_number,i)"
   ]
  },
  {
   "cell_type": "code",
   "execution_count": null,
   "metadata": {},
   "outputs": [],
   "source": []
  }
 ],
 "metadata": {
  "kernelspec": {
   "display_name": "Python 3",
   "language": "python",
   "name": "python3"
  },
  "language_info": {
   "codemirror_mode": {
    "name": "ipython",
    "version": 3
   },
   "file_extension": ".py",
   "mimetype": "text/x-python",
   "name": "python",
   "nbconvert_exporter": "python",
   "pygments_lexer": "ipython3",
   "version": "3.6.10"
  }
 },
 "nbformat": 4,
 "nbformat_minor": 4
}
