{
 "cells": [
  {
   "cell_type": "markdown",
   "metadata": {},
   "source": [
    "# Day 1"
   ]
  },
  {
   "cell_type": "code",
   "execution_count": 1,
   "metadata": {},
   "outputs": [
    {
     "name": "stdout",
     "output_type": "stream",
     "text": [
      "2.1 µs ± 95 ns per loop (mean ± std. dev. of 7 runs, 100000 loops each)\n",
      "947 µs ± 27.8 µs per loop (mean ± std. dev. of 7 runs, 1000 loops each)\n",
      "Part 1: 788739\n",
      "Part 2: 178724430\n"
     ]
    }
   ],
   "source": [
    "with open('input1a.txt', 'r') as f:\n",
    "    inputs=f.readlines()\n",
    "inputs=set([int(x) for x in inputs])\n",
    "\n",
    "def find_sum(inputs, sum_to):\n",
    "    while inputs:\n",
    "        x=inputs.pop()\n",
    "        y=sum_to-x\n",
    "        if y in inputs:\n",
    "            return x*y\n",
    "\n",
    "def find_sum_three(inputs, sum_to):\n",
    "    while inputs:\n",
    "        x=inputs.pop()\n",
    "        foo=inputs.copy()\n",
    "        y=find_sum(foo, sum_to-x)\n",
    "        if y:\n",
    "            return x*y\n",
    "        \n",
    "%timeit find_sum(inputs.copy(), 2020)\n",
    "%timeit find_sum_three(inputs.copy(), 2020)\n",
    "\n",
    "print(f'Part 1: {find_sum(inputs.copy(), 2020)}')\n",
    "print(f'Part 2: {find_sum_three(inputs.copy(), 2020)}')"
   ]
  },
  {
   "cell_type": "markdown",
   "metadata": {},
   "source": [
    "Previous method was using lists, but that was slower than using a set (and the rest of the code was the same). See timings here.\n",
    "\n",
    "*Note: The method with sets would fail if the results we are looking for have any duplicate numbers, as we just get rid of them when taking a set*"
   ]
  },
  {
   "cell_type": "code",
   "execution_count": 2,
   "metadata": {},
   "outputs": [
    {
     "name": "stdout",
     "output_type": "stream",
     "text": [
      "140 µs ± 11.2 µs per loop (mean ± std. dev. of 7 runs, 10000 loops each)\n",
      "15.1 ms ± 1.3 ms per loop (mean ± std. dev. of 7 runs, 100 loops each)\n"
     ]
    }
   ],
   "source": [
    "with open('input1a.txt', 'r') as f:\n",
    "    inputs=f.readlines()\n",
    "inputs=[int(x) for x in inputs]\n",
    "        \n",
    "%timeit find_sum(inputs.copy(), 2020)\n",
    "%timeit find_sum_three(inputs.copy(), 2020)"
   ]
  },
  {
   "cell_type": "markdown",
   "metadata": {},
   "source": [
    "# Day 2"
   ]
  },
  {
   "cell_type": "code",
   "execution_count": 3,
   "metadata": {},
   "outputs": [
    {
     "name": "stdout",
     "output_type": "stream",
     "text": [
      "Part 1: 460\n"
     ]
    }
   ],
   "source": [
    "import re\n",
    "with open('input2.txt', 'r') as f:\n",
    "    inputs=f.read()\n",
    "\n",
    "line_pattern=re.compile('(\\d+)\\-(\\d+) (\\w)\\: (\\w+)')\n",
    "matches=line_pattern.findall(inputs)\n",
    "\n",
    "count=0\n",
    "for lower, upper, char, password in matches:\n",
    "    no_of_occurences=password.count(char)\n",
    "    if int(lower)<=no_of_occurences<=int(upper):\n",
    "        count+=1\n",
    "        \n",
    "print(f'Part 1: {count}')"
   ]
  },
  {
   "cell_type": "code",
   "execution_count": 4,
   "metadata": {},
   "outputs": [
    {
     "name": "stdout",
     "output_type": "stream",
     "text": [
      "Part 2: 251\n"
     ]
    }
   ],
   "source": [
    "count=0\n",
    "for lower, upper, char, password in matches:\n",
    "    if (password[int(lower)-1]==char) != (password[int(upper)-1]==char):\n",
    "        count+=1\n",
    "        \n",
    "print(f'Part 2: {count}')"
   ]
  },
  {
   "cell_type": "markdown",
   "metadata": {},
   "source": [
    "# Day 3"
   ]
  },
  {
   "cell_type": "code",
   "execution_count": 5,
   "metadata": {},
   "outputs": [
    {
     "name": "stdout",
     "output_type": "stream",
     "text": [
      "Part 1: 228\n"
     ]
    }
   ],
   "source": [
    "with open('input3.txt', 'r') as f:\n",
    "    inputs=f.read().splitlines() \n",
    "    \n",
    "def count_trees(slope, inputs):\n",
    "    position=0\n",
    "    counter=0\n",
    "    repetition=len(inputs[0])\n",
    "    for line in inputs[::slope[1]]:\n",
    "        if line[position]=='#':\n",
    "            counter+=1\n",
    "        position=(position+slope[0])%repetition\n",
    "    return counter\n",
    "\n",
    "print(f'Part 1: {count_trees([3,1],inputs)}')"
   ]
  },
  {
   "cell_type": "code",
   "execution_count": 6,
   "metadata": {},
   "outputs": [
    {
     "name": "stdout",
     "output_type": "stream",
     "text": [
      "Part 2: 6818112000\n"
     ]
    }
   ],
   "source": [
    "slopes=[[1,1],[3,1],[5,1],[7,1],[1,2]]\n",
    "\n",
    "result=1\n",
    "for slope in slopes:\n",
    "    result*=count_trees(slope, inputs)\n",
    "    \n",
    "print(f'Part 2: {result}')"
   ]
  },
  {
   "cell_type": "markdown",
   "metadata": {},
   "source": [
    "# Day 4"
   ]
  },
  {
   "cell_type": "code",
   "execution_count": 7,
   "metadata": {},
   "outputs": [
    {
     "name": "stdout",
     "output_type": "stream",
     "text": [
      "Part 1: 219\n"
     ]
    }
   ],
   "source": [
    "required_fields={'byr', 'iyr', 'eyr', 'hgt', 'hcl', 'ecl', 'pid'}\n",
    "with open('input4.txt', 'r') as f:\n",
    "    inputs=f.read().split('\\n\\n') \n",
    "\n",
    "fields=re.compile('(\\w{3}):')\n",
    "validator=[required_fields.issubset(set(fields.findall(x))) for x in inputs]\n",
    "print(f'Part 1: {sum(validator)}')"
   ]
  },
  {
   "cell_type": "code",
   "execution_count": 8,
   "metadata": {},
   "outputs": [
    {
     "name": "stdout",
     "output_type": "stream",
     "text": [
      "Part 2: 127\n"
     ]
    }
   ],
   "source": [
    "fields=re.compile('(?=.*byr:(?:19[2-9][0-9]|200[0-2])(?:\\s|$))\\\n",
    "(?=.*iyr:(?:201[0-9]|2020)(?:\\s|$))\\\n",
    "(?=.*eyr:(?:202[0-9]|2030)(?:\\s|$))\\\n",
    "(?=.*hcl:#[0-9a-f]{6}(?:\\s|$))\\\n",
    "(?=.*ecl:(?:amb|blu|brn|gry|grn|hzl|oth)(?:\\s|$))\\\n",
    "(?=.*pid:\\d{9}(?:\\s|$))\\\n",
    "(?=.*hgt:(?:1(?:[5-8]\\d|9[0-3])cm|(?:59|6\\d|7[0-6])in)(?:\\s|$))',re.DOTALL)\n",
    "\n",
    "validator=[fields.match(x) is not None for x in inputs]\n",
    "print(f'Part 2: {sum(validator)}')"
   ]
  },
  {
   "cell_type": "code",
   "execution_count": null,
   "metadata": {},
   "outputs": [],
   "source": []
  }
 ],
 "metadata": {
  "kernelspec": {
   "display_name": "Python 3",
   "language": "python",
   "name": "python3"
  },
  "language_info": {
   "codemirror_mode": {
    "name": "ipython",
    "version": 3
   },
   "file_extension": ".py",
   "mimetype": "text/x-python",
   "name": "python",
   "nbconvert_exporter": "python",
   "pygments_lexer": "ipython3",
   "version": "3.6.10"
  }
 },
 "nbformat": 4,
 "nbformat_minor": 4
}
