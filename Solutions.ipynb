{
 "cells": [
  {
   "cell_type": "markdown",
   "metadata": {},
   "source": [
    "# Day 1"
   ]
  },
  {
   "cell_type": "code",
   "execution_count": 43,
   "metadata": {},
   "outputs": [
    {
     "name": "stdout",
     "output_type": "stream",
     "text": [
      "2.14 µs ± 219 ns per loop (mean ± std. dev. of 7 runs, 100000 loops each)\n",
      "983 µs ± 60.6 µs per loop (mean ± std. dev. of 7 runs, 1000 loops each)\n",
      "Part 1: 788739\n",
      "Part 2: 178724430\n"
     ]
    }
   ],
   "source": [
    "with open('input1a.txt', 'r') as f:\n",
    "    inputs=f.readlines()\n",
    "inputs=set([int(x) for x in inputs])\n",
    "\n",
    "def find_sum(inputs, sum_to):\n",
    "    while inputs:\n",
    "        x=inputs.pop()\n",
    "        y=sum_to-x\n",
    "        if y in inputs:\n",
    "            return x*y\n",
    "\n",
    "def find_sum_three(inputs, sum_to):\n",
    "    while inputs:\n",
    "        x=inputs.pop()\n",
    "        foo=inputs.copy()\n",
    "        y=find_sum(foo, sum_to-x)\n",
    "        if y:\n",
    "            return x*y\n",
    "        \n",
    "%timeit find_sum(inputs.copy(), 2020)\n",
    "%timeit find_sum_three(inputs.copy(), 2020)\n",
    "\n",
    "print(f'Part 1: {find_sum(inputs.copy(), 2020)}')\n",
    "print(f'Part 2: {find_sum_three(inputs.copy(), 2020)}')"
   ]
  },
  {
   "cell_type": "markdown",
   "metadata": {},
   "source": [
    "Previous method was using lists, but that was slower than using a set (and the rest of the code was the same). See timings here.\n",
    "\n",
    "*Note: The method with sets would fail if the results we are looking for have any duplicate numbers, as we just get rid of them when taking a set*"
   ]
  },
  {
   "cell_type": "code",
   "execution_count": 2,
   "metadata": {},
   "outputs": [
    {
     "name": "stdout",
     "output_type": "stream",
     "text": [
      "127 µs ± 1.91 µs per loop (mean ± std. dev. of 7 runs, 10000 loops each)\n",
      "13.1 ms ± 445 µs per loop (mean ± std. dev. of 7 runs, 100 loops each)\n"
     ]
    }
   ],
   "source": [
    "with open('input1a.txt', 'r') as f:\n",
    "    inputs=f.readlines()\n",
    "inputs=[int(x) for x in inputs]\n",
    "        \n",
    "%timeit find_sum(inputs.copy(), 2020)\n",
    "%timeit find_sum_three(inputs.copy(), 2020)"
   ]
  },
  {
   "cell_type": "markdown",
   "metadata": {},
   "source": [
    "# Day 2"
   ]
  },
  {
   "cell_type": "code",
   "execution_count": 98,
   "metadata": {},
   "outputs": [
    {
     "name": "stdout",
     "output_type": "stream",
     "text": [
      "Part 1: 460\n"
     ]
    }
   ],
   "source": [
    "import re\n",
    "with open('input2.txt', 'r') as f:\n",
    "    inputs=f.read()\n",
    "\n",
    "line_pattern=re.compile('(\\d+)\\-(\\d+) (\\w)\\: (\\w+)')\n",
    "matches=line_pattern.findall(inputs)\n",
    "\n",
    "count=0\n",
    "for lower, upper, char, password in matches:\n",
    "    no_of_occurences=password.count(char)\n",
    "    if int(lower)<=no_of_occurences<=int(upper):\n",
    "        count+=1\n",
    "        \n",
    "print(f'Part 1: {count}')"
   ]
  },
  {
   "cell_type": "code",
   "execution_count": 99,
   "metadata": {},
   "outputs": [
    {
     "name": "stdout",
     "output_type": "stream",
     "text": [
      "Part 2: 251\n"
     ]
    }
   ],
   "source": [
    "count=0\n",
    "for lower, upper, char, password in matches:\n",
    "    if (password[int(lower)-1]==char) != (password[int(upper)-1]==char):\n",
    "        count+=1\n",
    "        \n",
    "print(f'Part 2: {count}')"
   ]
  },
  {
   "cell_type": "code",
   "execution_count": null,
   "metadata": {},
   "outputs": [],
   "source": []
  }
 ],
 "metadata": {
  "kernelspec": {
   "display_name": "Python 3",
   "language": "python",
   "name": "python3"
  },
  "language_info": {
   "codemirror_mode": {
    "name": "ipython",
    "version": 3
   },
   "file_extension": ".py",
   "mimetype": "text/x-python",
   "name": "python",
   "nbconvert_exporter": "python",
   "pygments_lexer": "ipython3",
   "version": "3.6.10"
  }
 },
 "nbformat": 4,
 "nbformat_minor": 4
}
