{
 "cells": [
  {
   "cell_type": "markdown",
   "metadata": {},
   "source": [
    "# Day 1"
   ]
  },
  {
   "cell_type": "code",
   "execution_count": 1,
   "metadata": {},
   "outputs": [
    {
     "name": "stdout",
     "output_type": "stream",
     "text": [
      "2.61 µs ± 540 ns per loop (mean ± std. dev. of 7 runs, 100000 loops each)\n",
      "1.33 ms ± 117 µs per loop (mean ± std. dev. of 7 runs, 1000 loops each)\n",
      "Part 1: 788739\n",
      "Part 2: 178724430\n"
     ]
    }
   ],
   "source": [
    "with open('input1a.txt', 'r') as f:\n",
    "    inputs=f.readlines()\n",
    "inputs=set([int(x) for x in inputs])\n",
    "\n",
    "def find_sum(inputs, sum_to):\n",
    "    while inputs:\n",
    "        x=inputs.pop()\n",
    "        y=sum_to-x\n",
    "        if y in inputs:\n",
    "            return [x,y]\n",
    "\n",
    "def find_sum_three(inputs, sum_to):\n",
    "    while inputs:\n",
    "        x=inputs.pop()\n",
    "        foo=inputs.copy()\n",
    "        r=find_sum(foo, sum_to-x)\n",
    "        if r:\n",
    "            y,z=r\n",
    "            return [x,y,z]\n",
    "        \n",
    "%timeit find_sum(inputs.copy(), 2020)\n",
    "%timeit find_sum_three(inputs.copy(), 2020)\n",
    "\n",
    "x,y=find_sum(inputs.copy(), 2020)\n",
    "print(f'Part 1: {x*y}')\n",
    "x,y,z=find_sum_three(inputs.copy(),2020)\n",
    "print(f'Part 2: {x*y*z}')"
   ]
  },
  {
   "cell_type": "markdown",
   "metadata": {},
   "source": [
    "Previous method was using lists, but that was slower than using a set (and the rest of the code was the same). See timings here.\n",
    "\n",
    "*Note: The method with sets would fail if the results we are looking for have any duplicate numbers, as we just get rid of them when taking a set*"
   ]
  },
  {
   "cell_type": "code",
   "execution_count": 2,
   "metadata": {},
   "outputs": [
    {
     "name": "stdout",
     "output_type": "stream",
     "text": [
      "197 µs ± 57.6 µs per loop (mean ± std. dev. of 7 runs, 1000 loops each)\n",
      "20.1 ms ± 1.26 ms per loop (mean ± std. dev. of 7 runs, 100 loops each)\n"
     ]
    }
   ],
   "source": [
    "with open('input1a.txt', 'r') as f:\n",
    "    inputs=f.readlines()\n",
    "inputs=[int(x) for x in inputs]\n",
    "        \n",
    "%timeit find_sum(inputs.copy(), 2020)\n",
    "%timeit find_sum_three(inputs.copy(), 2020)"
   ]
  },
  {
   "cell_type": "markdown",
   "metadata": {},
   "source": [
    "# Day 2"
   ]
  },
  {
   "cell_type": "code",
   "execution_count": 3,
   "metadata": {},
   "outputs": [
    {
     "name": "stdout",
     "output_type": "stream",
     "text": [
      "Part 1: 460\n"
     ]
    }
   ],
   "source": [
    "import re\n",
    "with open('input2.txt', 'r') as f:\n",
    "    inputs=f.read()\n",
    "\n",
    "line_pattern=re.compile('(\\d+)\\-(\\d+) (\\w)\\: (\\w+)')\n",
    "matches=line_pattern.findall(inputs)\n",
    "\n",
    "count=0\n",
    "for lower, upper, char, password in matches:\n",
    "    no_of_occurences=password.count(char)\n",
    "    if int(lower)<=no_of_occurences<=int(upper):\n",
    "        count+=1\n",
    "        \n",
    "print(f'Part 1: {count}')"
   ]
  },
  {
   "cell_type": "code",
   "execution_count": 4,
   "metadata": {},
   "outputs": [
    {
     "name": "stdout",
     "output_type": "stream",
     "text": [
      "Part 2: 251\n"
     ]
    }
   ],
   "source": [
    "count=0\n",
    "for lower, upper, char, password in matches:\n",
    "    if (password[int(lower)-1]==char) != (password[int(upper)-1]==char):\n",
    "        count+=1\n",
    "        \n",
    "print(f'Part 2: {count}')"
   ]
  },
  {
   "cell_type": "markdown",
   "metadata": {},
   "source": [
    "# Day 3"
   ]
  },
  {
   "cell_type": "code",
   "execution_count": 5,
   "metadata": {},
   "outputs": [
    {
     "name": "stdout",
     "output_type": "stream",
     "text": [
      "Part 1: 228\n"
     ]
    }
   ],
   "source": [
    "with open('input3.txt', 'r') as f:\n",
    "    inputs=f.read().splitlines() \n",
    "    \n",
    "def count_trees(slope, inputs):\n",
    "    position=0\n",
    "    counter=0\n",
    "    repetition=len(inputs[0])\n",
    "    for line in inputs[::slope[1]]:\n",
    "        if line[position]=='#':\n",
    "            counter+=1\n",
    "        position=(position+slope[0])%repetition\n",
    "    return counter\n",
    "\n",
    "print(f'Part 1: {count_trees([3,1],inputs)}')"
   ]
  },
  {
   "cell_type": "code",
   "execution_count": 6,
   "metadata": {},
   "outputs": [
    {
     "name": "stdout",
     "output_type": "stream",
     "text": [
      "Part 2: 6818112000\n"
     ]
    }
   ],
   "source": [
    "slopes=[[1,1],[3,1],[5,1],[7,1],[1,2]]\n",
    "\n",
    "result=1\n",
    "for slope in slopes:\n",
    "    result*=count_trees(slope, inputs)\n",
    "    \n",
    "print(f'Part 2: {result}')"
   ]
  },
  {
   "cell_type": "markdown",
   "metadata": {},
   "source": [
    "# Day 4"
   ]
  },
  {
   "cell_type": "code",
   "execution_count": 7,
   "metadata": {},
   "outputs": [
    {
     "name": "stdout",
     "output_type": "stream",
     "text": [
      "Part 1: 219\n"
     ]
    }
   ],
   "source": [
    "required_fields={'byr', 'iyr', 'eyr', 'hgt', 'hcl', 'ecl', 'pid'}\n",
    "with open('input4.txt', 'r') as f:\n",
    "    inputs=f.read().split('\\n\\n') \n",
    "\n",
    "fields=re.compile('(\\w{3}):')\n",
    "validator=[required_fields.issubset(set(fields.findall(x))) for x in inputs]\n",
    "print(f'Part 1: {sum(validator)}')"
   ]
  },
  {
   "cell_type": "code",
   "execution_count": 8,
   "metadata": {},
   "outputs": [
    {
     "name": "stdout",
     "output_type": "stream",
     "text": [
      "Part 2: 127\n"
     ]
    }
   ],
   "source": [
    "fields=re.compile(\n",
    "'(?=.*byr:(?:19[2-9][0-9]|200[0-2])(?:\\s|$))'+  # between 1920 and 2002\n",
    "'(?=.*iyr:(?:201[0-9]|2020)(?:\\s|$))'+          # between 2010 and 2020\n",
    "'(?=.*eyr:(?:202[0-9]|2030)(?:\\s|$))'+          # between 2020 and 2030\n",
    "'(?=.*hcl:#[0-9a-f]{6}(?:\\s|$))'+               # #xxxxxx where x is a digit or between a and f\n",
    "'(?=.*ecl:(?:amb|blu|brn|gry|grn|hzl|oth)(?:\\s|$))'+ # one of the prewritten strings\n",
    "'(?=.*pid:\\d{9}(?:\\s|$))'+                      # 9 digits including leading 0s\n",
    "'(?=.*hgt:(?:1(?:[5-8]\\d|9[0-3])cm|(?:59|6\\d|7[0-6])in)(?:\\s|$))' # <x>cm or <y>in, <x> between 150 and 193, <y> between 59 and 76\n",
    ",re.DOTALL)\n",
    "\n",
    "validator=[fields.match(x) is not None for x in inputs]\n",
    "print(f'Part 2: {sum(validator)}')"
   ]
  },
  {
   "cell_type": "markdown",
   "metadata": {},
   "source": [
    "# Day 5"
   ]
  },
  {
   "cell_type": "code",
   "execution_count": 9,
   "metadata": {},
   "outputs": [
    {
     "name": "stdout",
     "output_type": "stream",
     "text": [
      "Part 1: 996\n",
      "Part 2: 671\n"
     ]
    }
   ],
   "source": [
    "with open('input5.txt', 'r') as f:\n",
    "    inputs=f.read()\n",
    "    \n",
    "to_binary=inputs.replace('F','0').replace('B','1').replace('L','0').replace('R','1')\n",
    "to_ids=[int(x,base=2) for x in to_binary.split('\\n') if x]\n",
    "\n",
    "missing_number=set(range(min(to_ids),max(to_ids))).difference(to_ids).pop()\n",
    "\n",
    "print(f'Part 1: {max(to_ids)}')\n",
    "print(f'Part 2: {missing_number}')"
   ]
  },
  {
   "cell_type": "markdown",
   "metadata": {},
   "source": [
    "# Day 6"
   ]
  },
  {
   "cell_type": "code",
   "execution_count": 10,
   "metadata": {},
   "outputs": [
    {
     "name": "stdout",
     "output_type": "stream",
     "text": [
      "Part 1: 6542\n",
      "Part 2: 3299\n"
     ]
    }
   ],
   "source": [
    "with open('input6.txt', 'r') as f:\n",
    "    inputs=f.read().split('\\n\\n')\n",
    "\n",
    "def find_number_of_agreements(i,comparaison):\n",
    "    return len(comparaison(*[set(x) for x in i.split('\\n') if x]))\n",
    "\n",
    "result1=sum([find_number_of_agreements(i,set.union) for i in inputs])\n",
    "result2=sum([find_number_of_agreements(i,set.intersection) for i in inputs])\n",
    "\n",
    "print(f'Part 1: {result1}')\n",
    "print(f'Part 2: {result2}')"
   ]
  },
  {
   "cell_type": "markdown",
   "metadata": {},
   "source": [
    "# Day 7"
   ]
  },
  {
   "cell_type": "code",
   "execution_count": 11,
   "metadata": {},
   "outputs": [],
   "source": [
    "with open('input7.txt', 'r') as f:\n",
    "    inputs=f.read()"
   ]
  },
  {
   "cell_type": "code",
   "execution_count": 12,
   "metadata": {},
   "outputs": [
    {
     "name": "stdout",
     "output_type": "stream",
     "text": [
      "Part 1: 296\n",
      "CPU times: user 326 ms, sys: 15.7 ms, total: 342 ms\n",
      "Wall time: 441 ms\n"
     ]
    }
   ],
   "source": [
    "%%time\n",
    "def find_containing_bags_faster(c):\n",
    "    c=\"(?:\"+'|'.join(c)+\")\"\n",
    "    pattern=re.compile(f'(\\w+ \\w+) bags contain [\\w ,]*{c}')\n",
    "    containing_bags=set(pattern.findall(inputs))\n",
    "    return containing_bags\n",
    "    \n",
    "possibilities={'shiny gold'}\n",
    "all_possibilities=set()\n",
    "while possibilities:\n",
    "    added_bags=find_containing_bags_faster(possibilities)\n",
    "    possibilities=added_bags.difference(all_possibilities)\n",
    "    all_possibilities.update(added_bags)\n",
    "    \n",
    "print(f'Part 1: {len(all_possibilities)}')"
   ]
  },
  {
   "cell_type": "code",
   "execution_count": 13,
   "metadata": {},
   "outputs": [
    {
     "name": "stdout",
     "output_type": "stream",
     "text": [
      "Part 1: 296\n",
      "CPU times: user 3.75 s, sys: 107 ms, total: 3.86 s\n",
      "Wall time: 5.52 s\n"
     ]
    }
   ],
   "source": [
    "%%time\n",
    "def find_containing_bags(c):\n",
    "    pattern=re.compile(f'(\\w+ \\w+) bags contain [\\w ,]*{c}')\n",
    "    containing_bags=set(pattern.findall(inputs))\n",
    "    return containing_bags\n",
    "    \n",
    "possibilities={'shiny gold'}\n",
    "all_possibilities=set()\n",
    "while possibilities:\n",
    "    added_bags=set.union(*[find_containing_bags(c) for c in possibilities])\n",
    "    possibilities=added_bags.difference(all_possibilities)\n",
    "    all_possibilities.update(added_bags)\n",
    "    \n",
    "print(f'Part 1: {len(all_possibilities)}')"
   ]
  },
  {
   "cell_type": "code",
   "execution_count": 14,
   "metadata": {},
   "outputs": [
    {
     "name": "stdout",
     "output_type": "stream",
     "text": [
      "Part 1: 296\n",
      "CPU times: user 12.7 s, sys: 355 ms, total: 13 s\n",
      "Wall time: 17 s\n"
     ]
    }
   ],
   "source": [
    "%%time\n",
    "def find_containing_bags_slower(c):\n",
    "    pattern=re.compile(f'(\\w+ \\w+) bags contain [\\w ,]*{c}')\n",
    "    containing_bags=set(pattern.findall(inputs))\n",
    "    if containing_bags:\n",
    "        all_bags=containing_bags.copy()\n",
    "        for a in containing_bags:\n",
    "            all_bags.update(find_containing_bags_slower(a))\n",
    "        return all_bags\n",
    "    else:\n",
    "        return {}\n",
    "\n",
    "result=find_containing_bags_slower('shiny gold')\n",
    "print(f\"Part 1: {len(result)}\")"
   ]
  },
  {
   "cell_type": "code",
   "execution_count": 15,
   "metadata": {},
   "outputs": [
    {
     "name": "stdout",
     "output_type": "stream",
     "text": [
      "Part 2: 9339\n"
     ]
    }
   ],
   "source": [
    "def find_number_of_contained_bags(c):\n",
    "    number=0\n",
    "    pattern=re.compile(f'{c} bags contain ([\\w\\d ,]+)')\n",
    "    containing_bags=pattern.findall(inputs)\n",
    "    if containing_bags!=['no other bags']:\n",
    "        for b in containing_bags[0].split(', '):\n",
    "            foo=b.split(' ')\n",
    "            number+=int(foo[0])*(1+find_number_of_contained_bags(foo[1]+' '+foo[2]))\n",
    "        return number\n",
    "    else:\n",
    "        return 0\n",
    "\n",
    "print(f\"Part 2: {find_number_of_contained_bags('shiny gold')}\")"
   ]
  },
  {
   "cell_type": "markdown",
   "metadata": {},
   "source": [
    "# Day 8"
   ]
  },
  {
   "cell_type": "code",
   "execution_count": 16,
   "metadata": {},
   "outputs": [
    {
     "name": "stdout",
     "output_type": "stream",
     "text": [
      "Part 1: 1262\n",
      "Part 2: 1643\n"
     ]
    }
   ],
   "source": [
    "with open('input8.txt', 'r') as f:\n",
    "    inputs=f.readlines()\n",
    "\n",
    "lines=[(x[0:3],int(x[4:])) for x in inputs]\n",
    "\n",
    "def run_program(lines):\n",
    "    acc=0\n",
    "    current_line=0\n",
    "    already_visited=set()\n",
    "    last_line=len(lines)\n",
    "\n",
    "    while current_line not in already_visited and current_line<last_line:\n",
    "        instr, nbr = lines[current_line]\n",
    "        already_visited.add(current_line)\n",
    "        if instr == \"nop\":\n",
    "            current_line+=1\n",
    "        elif instr == \"acc\":\n",
    "            acc+=nbr\n",
    "            current_line+=1\n",
    "        elif instr == \"jmp\":\n",
    "            current_line+=nbr\n",
    "    return acc, current_line>=last_line, already_visited\n",
    "\n",
    "acc, _, visited=run_program(lines)\n",
    "print(f\"Part 1: {acc}\")\n",
    "\n",
    "for i in visited:\n",
    "    new_program = lines.copy()\n",
    "    instr, nbr = new_program[i]\n",
    "    if instr == \"acc\":\n",
    "        continue\n",
    "    elif instr == \"jmp\":\n",
    "        new_program[i] = \"nop\", nbr\n",
    "    elif instr == \"nop\":\n",
    "        new_program[i] = \"jmp\", nbr\n",
    "    acc, finished, _ = run_program(new_program)\n",
    "    if finished:\n",
    "        break\n",
    "        \n",
    "print(f\"Part 2: {acc}\")"
   ]
  },
  {
   "cell_type": "markdown",
   "metadata": {},
   "source": [
    "# Day 9"
   ]
  },
  {
   "cell_type": "code",
   "execution_count": 17,
   "metadata": {},
   "outputs": [
    {
     "name": "stdout",
     "output_type": "stream",
     "text": [
      "Part 1: 31161678\n",
      "Part 2: 5453868\n"
     ]
    }
   ],
   "source": [
    "with open('input9.txt', 'r') as f:\n",
    "    inputs=f.readlines()\n",
    "    \n",
    "inputs=[int(x) for x in inputs]\n",
    "\n",
    "def find_invalid_nbr(inputs):\n",
    "    for i in range(25,len(inputs)):\n",
    "        prev_numbers=set(inputs[i-25:i])\n",
    "        current_number=inputs[i]\n",
    "        if not find_sum(prev_numbers, current_number):\n",
    "            return current_number\n",
    "\n",
    "        \n",
    "def break_encryption(inputs, invalid_number):\n",
    "    i=len(inputs)\n",
    "    for j in range(0,i):\n",
    "        for k in range(j+1,i):\n",
    "            r=set(inputs[j:k])\n",
    "            if sum(r)==invalid_number:\n",
    "                return min(r)+max(r)\n",
    "            if sum(r)>invalid_number:\n",
    "                break\n",
    "\n",
    "invalid_number=find_invalid_nbr(inputs)\n",
    "print(f'Part 1: {invalid_number}')\n",
    "print (f'Part 2: {break_encryption(inputs,invalid_number)}')"
   ]
  },
  {
   "cell_type": "markdown",
   "metadata": {},
   "source": [
    "# Day 10"
   ]
  },
  {
   "cell_type": "code",
   "execution_count": 18,
   "metadata": {},
   "outputs": [
    {
     "name": "stdout",
     "output_type": "stream",
     "text": [
      "Part 1: 2170\n"
     ]
    }
   ],
   "source": [
    "with open('input10.txt', 'r') as f:\n",
    "    inputs=f.readlines()\n",
    "    \n",
    "inputs=[int(x) for x in inputs]\n",
    "inputs=sorted(inputs+[0,max(inputs)+3])\n",
    "differences=[x-y for x,y in zip(inputs[1:],inputs[:-1])]\n",
    "number_of_ones=differences.count(1)\n",
    "number_of_threes=differences.count(3)\n",
    "\n",
    "print(f'Part 1: {number_of_ones*number_of_threes}')"
   ]
  },
  {
   "cell_type": "code",
   "execution_count": 19,
   "metadata": {},
   "outputs": [
    {
     "name": "stdout",
     "output_type": "stream",
     "text": [
      "Part 2: 24803586664192\n"
     ]
    }
   ],
   "source": [
    "from functools import reduce\n",
    "\n",
    "#count number of consecutive ones\n",
    "p=re.compile('11+')\n",
    "cons_ones=p.findall(''.join([str(x) for x in differences]))\n",
    "number_of_consectutive_ones=[len(x) for x in cons_ones]\n",
    "\n",
    "# 1 can't be replaced -> 1 option\n",
    "# 1,1 can be replaced by 2 -> 1+1 option\n",
    "# 1,1,1 can be replaced by 2,1 or 1,2 or 3 -> 3+1 options\n",
    "# 1,1,1,1 can be replaced by 3,1 or 1,3 or 2,2 or 2,1,1 or 1,2,1 or 1,1,2 -> 6+1 options\n",
    "# 1,1,1,1,1 (not actually there) can be replaced by 311, 131, 113, 32, 23, 221, 212, 122, 2111, 1211, 1121,1112 -> 12+1 options\n",
    "\n",
    "# so for each segment of n, we have the option to replace it by f(n) options. \n",
    "# Each of these are independent, so we can just multiply them together\n",
    "\n",
    "replacement_options={2:2, 3:4, 4:7}\n",
    "options=[replacement_options[i] for i in number_of_consectutive_ones]\n",
    "print(f'Part 2: {reduce(lambda x,y:x*y, options,1)}')"
   ]
  },
  {
   "cell_type": "code",
   "execution_count": 20,
   "metadata": {
    "scrolled": true
   },
   "outputs": [
    {
     "name": "stdout",
     "output_type": "stream",
     "text": [
      "Part 2: 24803586664192\n"
     ]
    }
   ],
   "source": [
    "# A more general way to count the number of options to replace x consecutive ones\n",
    "def combos(x):\n",
    "    c=0\n",
    "    if x>2:\n",
    "        c+=combos(x-3)\n",
    "    if x>1:\n",
    "        c+=combos(x-2)\n",
    "    if x>0:\n",
    "        c+=combos(x-1)\n",
    "    else:\n",
    "        c+=1\n",
    "    return c\n",
    "\n",
    "replacement_options={}\n",
    "options=[]\n",
    "for x in number_of_consectutive_ones:\n",
    "    if x not in replacement_options:\n",
    "        replacement_options[x]=combos(x)\n",
    "    options+=[replacement_options[x]]\n",
    "    \n",
    "print(f'Part 2: {reduce(lambda x,y:x*y, options,1)}')"
   ]
  },
  {
   "cell_type": "code",
   "execution_count": 21,
   "metadata": {},
   "outputs": [
    {
     "data": {
      "text/plain": [
       "[4, 4, 4, 4, 4, 4, 4, 2, 4, 2, 4, 2, 4, 4, 2, 4, 4, 3, 3]"
      ]
     },
     "execution_count": 21,
     "metadata": {},
     "output_type": "execute_result"
    }
   ],
   "source": [
    "list(filter(lambda a: a >1, reduce(lambda l,x:[l[0]+1]+l[1:] if x==1 else [0]+l, differences,[0,0])))\n"
   ]
  },
  {
   "cell_type": "markdown",
   "metadata": {},
   "source": [
    "# Day 11"
   ]
  },
  {
   "cell_type": "code",
   "execution_count": 22,
   "metadata": {},
   "outputs": [],
   "source": [
    "with open('input11.txt', 'r') as f:\n",
    "    inputs=f.readlines()"
   ]
  },
  {
   "cell_type": "code",
   "execution_count": 23,
   "metadata": {},
   "outputs": [
    {
     "name": "stdout",
     "output_type": "stream",
     "text": [
      "Part 1: 2334\n"
     ]
    }
   ],
   "source": [
    "import numpy as np\n",
    "a=np.array([list(x)[:-1] for x in inputs])\n",
    "a=np.pad(a, 1, mode='constant',constant_values='.')\n",
    "is_seat = a!='.' \n",
    "is_occupied = (a=='#').astype(int)\n",
    "cond=True\n",
    "while cond:\n",
    "    neighbours=is_occupied[2:,1:-1]+\\\n",
    "                is_occupied[:-2,1:-1]+\\\n",
    "                is_occupied[1:-1,2:]+\\\n",
    "                is_occupied[1:-1,:-2]+\\\n",
    "                is_occupied[2:,2:]+\\\n",
    "                is_occupied[:-2,:-2]+\\\n",
    "                is_occupied[2:,:-2]+\\\n",
    "                is_occupied[:-2,2:]\n",
    "    should_empty=(is_occupied[1:-1,1:-1]==1) & (neighbours>=4) & (is_seat[1:-1,1:-1]==1)\n",
    "    should_occupy=(is_occupied[1:-1,1:-1]==0) & (neighbours==0) & (is_seat[1:-1,1:-1]==1)\n",
    "    is_occupied[1:-1,1:-1]+=should_occupy.astype(int)\n",
    "    is_occupied[1:-1,1:-1]-=should_empty.astype(int)\n",
    "    if not (should_empty.any() or should_occupy.any()):\n",
    "        cond=False\n",
    "print(f'Part 1: {np.sum(is_occupied)}')"
   ]
  },
  {
   "cell_type": "markdown",
   "metadata": {},
   "source": [
    "If a seat is empty (L) and there are no occupied seats adjacent to it, the seat becomes occupied.\n",
    "\n",
    "If a seat is occupied (#) and four or more seats adjacent to it are also occupied, the seat becomes empty.\n",
    "\n",
    "Otherwise, the seat's state does not change."
   ]
  },
  {
   "cell_type": "code",
   "execution_count": 24,
   "metadata": {},
   "outputs": [
    {
     "name": "stdout",
     "output_type": "stream",
     "text": [
      "Part 1: 2100\n",
      "CPU times: user 3.73 s, sys: 113 ms, total: 3.84 s\n",
      "Wall time: 4.31 s\n"
     ]
    }
   ],
   "source": [
    "%%time\n",
    "a=np.array([list(x)[:-1] for x in inputs])\n",
    "is_seat = a!='.' \n",
    "is_occupied = (a=='#')\n",
    "\n",
    "def find_neighbour(seat, direction):\n",
    "    i,j=seat\n",
    "    di,dj=direction\n",
    "    while 0<=i+di<np.size(is_seat, axis=0) and 0<=j+dj<np.size(is_seat, axis=1):\n",
    "        i+=di\n",
    "        j+=dj\n",
    "        if is_seat[i,j]:\n",
    "            return [i,j]\n",
    "\n",
    "dirs=[[1,0],[-1,0],[0,1],[0,-1], [1,1], [1,-1], [-1,1], [-1,-1]]\n",
    "neighbouring_seats={}\n",
    "for i in range(np.size(is_seat, axis=0)):\n",
    "    for j in range(np.size(is_seat, axis=1)):\n",
    "        if is_seat[i,j]:\n",
    "            neighbouring_seats[i,j]=[find_neighbour((i,j),d) for d in dirs if find_neighbour((i,j),d)]\n",
    "\n",
    "is_occupied = (a=='#').astype(int)\n",
    "changed=True\n",
    "while changed:\n",
    "    will_be_occupied=is_occupied.copy()\n",
    "    changed=False\n",
    "    for seat in neighbouring_seats:\n",
    "        i,j=seat\n",
    "        ns=neighbouring_seats[seat]\n",
    "        nbr_neighbours=sum([is_occupied[ni,nj] for ni,nj in ns])\n",
    "        if nbr_neighbours>=5 and is_occupied[i,j]:\n",
    "            will_be_occupied[i,j]=False\n",
    "            changed=True\n",
    "        elif nbr_neighbours==0 and (not is_occupied[i,j]):\n",
    "            will_be_occupied[i, j]=True\n",
    "            changed=True\n",
    "    is_occupied=will_be_occupied\n",
    "    \n",
    "print(f'Part 1: {np.sum(is_occupied)}')"
   ]
  },
  {
   "cell_type": "markdown",
   "metadata": {},
   "source": [
    "# Day 12"
   ]
  },
  {
   "cell_type": "code",
   "execution_count": 25,
   "metadata": {},
   "outputs": [
    {
     "name": "stdout",
     "output_type": "stream",
     "text": [
      "Part 1: 796\n"
     ]
    }
   ],
   "source": [
    "import math\n",
    "with open('input12.txt', 'r') as f:\n",
    "    inputs=f.readlines()\n",
    "    \n",
    "# Since we the NSWE directions don't affect which way the ship is facing, \n",
    "# we can just treat them independently and sum them together first\n",
    "# But let's start by just doing things without premature optimisation\n",
    "\n",
    "direction=0\n",
    "x=0\n",
    "y=0\n",
    "\n",
    "for instr in inputs:\n",
    "    d=instr[0]\n",
    "    n=int(instr[1:])\n",
    "    if d=='F':\n",
    "        x+=n*math.cos(math.radians(direction))\n",
    "        y+=n*math.sin(math.radians(direction))\n",
    "    if d=='L':\n",
    "        direction+=n\n",
    "    if d=='R':\n",
    "        direction-=n\n",
    "    if d=='N':\n",
    "        y+=n\n",
    "    if d=='S':\n",
    "        y-=n\n",
    "    if d=='E':\n",
    "        x+=n\n",
    "    if d=='W':\n",
    "        x-=n\n",
    "        \n",
    "print(f'Part 1: {round(abs(x)+abs(y))}')"
   ]
  },
  {
   "cell_type": "code",
   "execution_count": 26,
   "metadata": {},
   "outputs": [
    {
     "name": "stdout",
     "output_type": "stream",
     "text": [
      "Part 2: 39446\n"
     ]
    }
   ],
   "source": [
    "direction=0\n",
    "x=0\n",
    "y=0\n",
    "wx=10\n",
    "wy=1\n",
    "\n",
    "for instr in inputs:\n",
    "    d=instr[0]\n",
    "    n=int(instr[1:])\n",
    "    if d=='F':\n",
    "        x+=wx*n\n",
    "        y+=wy*n\n",
    "    if d=='L':\n",
    "        wx,wy=wx*math.cos(math.radians(n))-wy*math.sin(math.radians(n)),\\\n",
    "              wx*math.sin(math.radians(n))+wy*math.cos(math.radians(n))\n",
    "    if d=='R':\n",
    "        wx,wy=wx*math.cos(math.radians(n))+wy*math.sin(math.radians(n)),\\\n",
    "              -wx*math.sin(math.radians(n))+wy*math.cos(math.radians(n))\n",
    "    if d=='N':\n",
    "        wy+=n\n",
    "    if d=='S':\n",
    "        wy-=n\n",
    "    if d=='E':\n",
    "        wx+=n\n",
    "    if d=='W':\n",
    "        wx-=n\n",
    "        \n",
    "print(f'Part 2: {round(abs(x)+abs(y))}')"
   ]
  },
  {
   "cell_type": "markdown",
   "metadata": {},
   "source": [
    "# Day 13"
   ]
  },
  {
   "cell_type": "code",
   "execution_count": 27,
   "metadata": {},
   "outputs": [
    {
     "name": "stdout",
     "output_type": "stream",
     "text": [
      "Part 1: 2238\n"
     ]
    }
   ],
   "source": [
    "with open('input13.txt', 'r') as f:\n",
    "    inputs=f.readlines()\n",
    "    \n",
    "timestamp=int(inputs[0])\n",
    "bus_numbers=[int(x) for x in inputs[1].split(',') if x!='x']\n",
    "\n",
    "wait_times=[(n,n-(timestamp%n)) for n in bus_numbers]\n",
    "bus, wait = min(wait_times, key=lambda x: x[1])\n",
    "print(f'Part 1: {bus*wait}')"
   ]
  },
  {
   "cell_type": "code",
   "execution_count": 28,
   "metadata": {},
   "outputs": [
    {
     "name": "stdout",
     "output_type": "stream",
     "text": [
      "Part 2: 560214575859998\n"
     ]
    }
   ],
   "source": [
    "foo=inputs[1].split(',')\n",
    "buses=dict([(int(x),w) for x,w in zip(foo,range(len(foo))) if x!='x'])\n",
    "\n",
    "timestamp=0\n",
    "period=1\n",
    "while buses:\n",
    "    timestamp+=period\n",
    "    for n in list(buses):\n",
    "        if not (timestamp+buses[n])%n:\n",
    "            del buses[n]\n",
    "            period*=n//math.gcd(n,period) #period is the lowest common factor between n and old period\n",
    "            \n",
    "print(f'Part 2: {timestamp}')        "
   ]
  },
  {
   "cell_type": "markdown",
   "metadata": {},
   "source": [
    "# Day 14"
   ]
  },
  {
   "cell_type": "code",
   "execution_count": 29,
   "metadata": {},
   "outputs": [],
   "source": [
    "with open('input14.txt', 'r') as f:\n",
    "    inputs=f.readlines()"
   ]
  },
  {
   "cell_type": "code",
   "execution_count": 30,
   "metadata": {},
   "outputs": [
    {
     "name": "stdout",
     "output_type": "stream",
     "text": [
      "Part 1: 11327140210986\n"
     ]
    }
   ],
   "source": [
    "memory={}\n",
    "for inp in inputs:\n",
    "    if inp[:4]=='mask':\n",
    "        mask=inp[7:-1]\n",
    "    else:\n",
    "        foo=inp.split(r'] = ')\n",
    "        address=foo[0][4:]\n",
    "        value=foo[1][:-1]\n",
    "        bin_value=format(int(value), '036b')\n",
    "        memory[address]=''.join([v if m=='X' else m for v,m in zip(bin_value, mask)])\n",
    "\n",
    "res1=sum([int(x, 2) for x in memory.values()])\n",
    "print(f'Part 1: {res1}') "
   ]
  },
  {
   "cell_type": "code",
   "execution_count": 31,
   "metadata": {},
   "outputs": [
    {
     "name": "stdout",
     "output_type": "stream",
     "text": [
      "Part 2: 2308180581795\n"
     ]
    }
   ],
   "source": [
    "memory={}\n",
    "\n",
    "for inp in inputs:\n",
    "    if inp[:4]=='mask':\n",
    "        mask=inp[7:-1]\n",
    "        masks=[mask]\n",
    "        while 'X' in masks[0]:\n",
    "            masks=[x for m in masks for x in [m.replace('X','0',1), m.replace('X','1',1)]]\n",
    "    else:\n",
    "        foo=inp.split(r'] = ')\n",
    "        address=foo[0][4:]\n",
    "        value=foo[1][:-1]\n",
    "        bin_address=format(int(address), '036b')\n",
    "        for fmask in masks:\n",
    "            masked_address=''.join([v if m=='0' else fm for v,m,fm in zip(bin_address, mask, fmask)])\n",
    "            memory[masked_address]=value\n",
    "\n",
    "res2=sum([int(x) for x in memory.values()])\n",
    "print(f'Part 2: {res2}') "
   ]
  },
  {
   "cell_type": "markdown",
   "metadata": {},
   "source": [
    "# Day 15"
   ]
  },
  {
   "cell_type": "code",
   "execution_count": 32,
   "metadata": {},
   "outputs": [
    {
     "name": "stdout",
     "output_type": "stream",
     "text": [
      "Part 1: 387\n"
     ]
    }
   ],
   "source": [
    "inputs=[14,1,17,0,3,20]\n",
    "\n",
    "def memory_game(inputs, turns):\n",
    "    nbs_spoken=dict(zip(inputs[:-1],range(len(inputs[:-1]))))\n",
    "    last_number_spoken=inputs[-1]\n",
    "    for i in range(len(inputs),turns):\n",
    "        previously_spoken=nbs_spoken.get(last_number_spoken,i-1)\n",
    "        nbs_spoken[last_number_spoken]=i-1\n",
    "        last_number_spoken=i-1-previously_spoken\n",
    "    return last_number_spoken\n",
    "\n",
    "print(f'Part 1: {memory_game(inputs,2020)}')"
   ]
  },
  {
   "cell_type": "code",
   "execution_count": 33,
   "metadata": {},
   "outputs": [
    {
     "name": "stdout",
     "output_type": "stream",
     "text": [
      "Part 2: 6428\n",
      "CPU times: user 18.7 s, sys: 992 ms, total: 19.7 s\n",
      "Wall time: 23.3 s\n"
     ]
    }
   ],
   "source": [
    "%%time\n",
    "print(f'Part 2: {memory_game(inputs,30000000)}')"
   ]
  },
  {
   "cell_type": "markdown",
   "metadata": {},
   "source": [
    "# Day 16"
   ]
  },
  {
   "cell_type": "code",
   "execution_count": 34,
   "metadata": {},
   "outputs": [],
   "source": [
    "with open('input16.txt') as f:\n",
    "    inputs=f.readlines()"
   ]
  },
  {
   "cell_type": "code",
   "execution_count": 35,
   "metadata": {},
   "outputs": [],
   "source": [
    "# just file parsing\n",
    "categories={}\n",
    "nearby=False\n",
    "tickets=[]\n",
    "mine=False\n",
    "pattern=re.compile('([a-z ]+): (\\d+)-(\\d+) or (\\d+)-(\\d+)')\n",
    "\n",
    "for inp in inputs:\n",
    "    if 'or' in inp:\n",
    "        cat, xlow, xhi, ylow, yhi=pattern.findall(inp)[0]\n",
    "        categories[cat]=[(int(xlow), int(xhi)), (int(ylow), int(yhi))]\n",
    "    elif inp=='your ticket:\\n':\n",
    "        mine=True\n",
    "        pass\n",
    "    elif mine and ',' in inp:\n",
    "        my_ticket=[int(x) for x in inp.split(',')]\n",
    "        mine=False\n",
    "    elif inp=='nearby tickets:\\n':\n",
    "        nearby=True\n",
    "        pass\n",
    "    elif nearby and ',' in inp:\n",
    "        tickets+=[[int(x) for x in inp.split(',')]]"
   ]
  },
  {
   "cell_type": "code",
   "execution_count": 36,
   "metadata": {},
   "outputs": [
    {
     "name": "stdout",
     "output_type": "stream",
     "text": [
      "Part 1: 28884\n"
     ]
    }
   ],
   "source": [
    "# determine which tickets are valid\n",
    "invalid_numbers=[]\n",
    "ranges=[item for sublist in categories.values() for item in sublist]\n",
    "valid_tickets=[]\n",
    "for ticket in tickets:\n",
    "    valid=True\n",
    "    for n in ticket:\n",
    "        if sum([low<=n<=hi for low, hi in ranges])==0:\n",
    "            invalid_numbers+=[n]\n",
    "            valid=False\n",
    "    if valid:\n",
    "        valid_tickets+=[ticket]\n",
    "            \n",
    "print(f'Part 1: {sum(invalid_numbers)}')"
   ]
  },
  {
   "cell_type": "code",
   "execution_count": 37,
   "metadata": {},
   "outputs": [],
   "source": [
    "# for each field, determine which cathegories it can correspond to\n",
    "possible_colums={}\n",
    "for i in range(len(categories)):\n",
    "    numbers=[x[i] for x in valid_tickets]\n",
    "    for k,v in categories.items():\n",
    "        (xlow, xhi), (ylow, yhi) = v\n",
    "        if sum([n<xlow or xhi<n<ylow or yhi<n for n in numbers])==0:\n",
    "            possible_colums[k]=possible_colums.get(k,[])+[i]"
   ]
  },
  {
   "cell_type": "code",
   "execution_count": 38,
   "metadata": {},
   "outputs": [
    {
     "name": "stdout",
     "output_type": "stream",
     "text": [
      "Part 2: 1001849322119\n"
     ]
    }
   ],
   "source": [
    "# Finally, see which field corresponds to which cathegory\n",
    "category_colums={}\n",
    "values_taken=set()\n",
    "for item in sorted(possible_colums.items(), key=lambda x: len(x[1])):\n",
    "    cat, values=item\n",
    "    values=set.difference(set(values), values_taken)\n",
    "    if len(values)==1:\n",
    "        c=values.pop()\n",
    "        category_colums[cat]=c\n",
    "        values_taken.add(c)\n",
    "    else: \n",
    "        print('PROBLEM')\n",
    "\n",
    "nbrs=[]\n",
    "for x,y in category_colums.items():\n",
    "    if x[:len('departure')]=='departure':\n",
    "        nbrs+=[my_ticket[y]]\n",
    "        \n",
    "print(f'Part 2: {reduce(lambda x,y: x*y, nbrs, 1)}')"
   ]
  },
  {
   "cell_type": "markdown",
   "metadata": {},
   "source": [
    "# Day 17"
   ]
  },
  {
   "cell_type": "code",
   "execution_count": 133,
   "metadata": {},
   "outputs": [],
   "source": [
    "from itertools import product\n",
    "\n",
    "class Field:\n",
    "    def __init__(self,dimensions, f):\n",
    "        i=0\n",
    "        self.d={}\n",
    "        self.dimensions=dimensions\n",
    "        for line in f:\n",
    "            j=0\n",
    "            for x in line:\n",
    "                if x=='#':\n",
    "                    index=(i,j)+tuple([0])*(self.dimensions-2)\n",
    "                    self.d[index]=1\n",
    "                j+=1\n",
    "            i+=1\n",
    "        self.neighbours = list(product(*[[0,1,-1]]*self.dimensions))\n",
    "        \n",
    "    def iterate(self,iterations):\n",
    "        for i in range(iterations):\n",
    "            self.do_iteration()\n",
    "        return sum(self.d.values())\n",
    "    \n",
    "    def do_iteration(self):\n",
    "        d_prev=self.d.copy()\n",
    "        # Add neighbours of all active elements\n",
    "        for key, val in d_prev.items():\n",
    "            if val==1:\n",
    "                for n in neighbours:\n",
    "                    i=tuple([x+y for x,y in zip(key,n)])\n",
    "                    if i not in self.d:\n",
    "                        self.d[i]=0\n",
    "\n",
    "        # Iterate and change state\n",
    "        for key, val in self.d.copy().items():\n",
    "            active_neighbours=sum([d_prev.get(tuple([x+y for x,y in zip(key,n)]),0) for n in self.neighbours])-val\n",
    "            if val==1 and (active_neighbours not in [2,3]):\n",
    "                self.d[key]=0\n",
    "            elif val==0 and active_neighbours==3:\n",
    "                self.d[key]=1\n"
   ]
  },
  {
   "cell_type": "code",
   "execution_count": 135,
   "metadata": {},
   "outputs": [
    {
     "name": "stdout",
     "output_type": "stream",
     "text": [
      "Part 1: 232\n",
      "Part 2: 1620\n",
      "CPU times: user 4.6 s, sys: 29.8 ms, total: 4.63 s\n",
      "Wall time: 4.77 s\n"
     ]
    }
   ],
   "source": [
    "%%time\n",
    "with open('input17.txt', 'r') as f:\n",
    "    part1=Field(3,f)\n",
    "with open('input17.txt', 'r') as f:\n",
    "    part2=Field(4,f)\n",
    "    \n",
    "\n",
    "print(f'Part 1: {part1.iterate(6)}')\n",
    "print(f'Part 2: {part2.iterate(6)}')"
   ]
  },
  {
   "cell_type": "markdown",
   "metadata": {},
   "source": [
    "# Day 18"
   ]
  },
  {
   "cell_type": "code",
   "execution_count": 148,
   "metadata": {},
   "outputs": [],
   "source": [
    "with open('input18.txt','r') as f:\n",
    "    inputs=f.readlines()"
   ]
  },
  {
   "cell_type": "code",
   "execution_count": 257,
   "metadata": {},
   "outputs": [],
   "source": [
    "def tokenise(x):\n",
    "    i=0\n",
    "    l=[]\n",
    "    while i<len(x):\n",
    "        if x[i]=='(':\n",
    "            y,end=tokenise(x[i+1:])\n",
    "            i+=end+2\n",
    "            l+=[y]\n",
    "        elif x[i]==')':\n",
    "            return l,i\n",
    "        else:\n",
    "            l+=[x[i]]\n",
    "            i+=1\n",
    "    return l, i\n",
    "    "
   ]
  },
  {
   "cell_type": "code",
   "execution_count": 342,
   "metadata": {},
   "outputs": [
    {
     "name": "stdout",
     "output_type": "stream",
     "text": [
      "Part 1: 701339185745\n"
     ]
    }
   ],
   "source": [
    "def evaluate(x):\n",
    "    addition=True\n",
    "    result=0\n",
    "    for t in x:\n",
    "        if type(t) is list:\n",
    "            y=evaluate(t)\n",
    "        elif t not in \"+*\":\n",
    "            y=int(t)\n",
    "        if t=='+':\n",
    "            addition=True\n",
    "        elif t=='*':\n",
    "            addition=False\n",
    "        elif addition:\n",
    "            result+=y\n",
    "        else:\n",
    "            result*=y\n",
    "    return result\n",
    "\n",
    "tokenised_exprs=[tokenise(i.replace('(',' ( ').replace(')',' ) ').split()) for i in inputs]\n",
    "print(f'Part 1: {sum([evaluate(i) for i,_ in tokenised_exprs])}')"
   ]
  },
  {
   "cell_type": "code",
   "execution_count": 347,
   "metadata": {},
   "outputs": [
    {
     "name": "stdout",
     "output_type": "stream",
     "text": [
      "Part 2: 4208490449905\n"
     ]
    }
   ],
   "source": [
    "def set_precedence(l):\n",
    "    i=0\n",
    "    new_list=[]\n",
    "    addition=False\n",
    "    for el in l:\n",
    "        if type(el) is list:\n",
    "            new_list+=[set_precedence(el)]\n",
    "        elif el=='+':\n",
    "            addition=True\n",
    "            continue\n",
    "        else:\n",
    "            new_list+=[el]\n",
    "        if addition:\n",
    "            x=new_list.pop()\n",
    "            new_list[-1]=[new_list[-1],'+',x]\n",
    "            addition=False\n",
    "    return new_list\n",
    "\n",
    "tokenised_exprs=[tokenise(i.replace('(',' ( ').replace(')',' ) ').split()) for i in inputs]\n",
    "print(f'Part 2: {sum([evaluate(set_precedence(i)) for i,_ in tokenised_exprs])}')"
   ]
  },
  {
   "cell_type": "markdown",
   "metadata": {},
   "source": [
    "# Day 19"
   ]
  },
  {
   "cell_type": "code",
   "execution_count": 662,
   "metadata": {},
   "outputs": [],
   "source": [
    "rules={}\n",
    "messages=[]\n",
    "with open('input19.txt') as f:\n",
    "    for line in f:\n",
    "        if ':' in line:\n",
    "            k,v=line.split(':')\n",
    "            rules[k]=v[1:-1]\n",
    "        elif line!='\\n':\n",
    "            messages+=[line]\n",
    "            "
   ]
  },
  {
   "cell_type": "code",
   "execution_count": 663,
   "metadata": {},
   "outputs": [],
   "source": [
    "def expand_rule(i, rules):\n",
    "    if i.isnumeric():\n",
    "        rule=rules[i]\n",
    "        if rule == '\"a\"':\n",
    "            return 'a'\n",
    "        elif rule == '\"b\"':\n",
    "            return 'b'\n",
    "        else:\n",
    "            options=rule.split('|')\n",
    "            processed='|'.join([''.join([expand_rule(x, rules) for x in option.split(' ')]) for option in options])\n",
    "            rules[i]=processed\n",
    "            return '(?:'+processed+')' \n",
    "    else: \n",
    "        return i"
   ]
  },
  {
   "cell_type": "code",
   "execution_count": 664,
   "metadata": {},
   "outputs": [
    {
     "name": "stdout",
     "output_type": "stream",
     "text": [
      "Part 1: 226\n"
     ]
    }
   ],
   "source": [
    "megaregex=expand_rule('0', rules)\n",
    "p=re.compile('^'+megaregex+'\\n')\n",
    "counter=0\n",
    "for m in messages:\n",
    "    if p.match(m):\n",
    "        counter+=1\n",
    "        match=m\n",
    "print(f'Part 1: {counter}')"
   ]
  },
  {
   "cell_type": "code",
   "execution_count": 665,
   "metadata": {},
   "outputs": [
    {
     "name": "stdout",
     "output_type": "stream",
     "text": [
      "Part 2: 355\n"
     ]
    }
   ],
   "source": [
    "# In second case, rule 0 (8 11) expands to 42 8? 42 11? 31, whcih then expands to \n",
    "# 42 (42 (42 (..)?)?)? 42 (42 (42 (..)? 31)? 31)? 31, \n",
    "# i.e. n+m times rule 42 followed by m times rule 31 where n,m>0\n",
    "\n",
    "p=re.compile('^(('+rules['42']+'){2,})(('+rules['31']+')+)$')\n",
    "counter=0\n",
    "for m in messages:\n",
    "    match=p.match(m)\n",
    "    if p.match(m):\n",
    "        if len(match.group(1))/len(match.group(2))>len(match.group(3))/len(match.group(4)):\n",
    "            counter+=1\n",
    "print(f'Part 2: {counter}')"
   ]
  },
  {
   "cell_type": "markdown",
   "metadata": {},
   "source": [
    "# Day 20"
   ]
  },
  {
   "cell_type": "code",
   "execution_count": 146,
   "metadata": {},
   "outputs": [],
   "source": [
    "from collections import deque\n",
    "class Tile:\n",
    "    def __init__(self,tile):\n",
    "        tile=tile.split('\\n')\n",
    "        self.id=int(tile[0][4:-1])\n",
    "        self.tile=[x.rstrip() for x in tile[1:]]\n",
    "        self.edges=deque([\n",
    "                    self.tile[0],\n",
    "                    ''.join([x[-1] for x in self.tile]),\n",
    "                    self.tile[-1][::-1],\n",
    "                    ''.join([x[0] for x in self.tile])[::-1]\n",
    "                    ])\n",
    "        #remove the edges, since they are not part of the jigsaw\n",
    "        self.tile=[''.join(x[1:-1]) for x in self.tile[1:-1]]\n",
    "        self.type=None\n",
    "        self.assembled=False\n",
    "        \n",
    "    def get_tile_type(self, all_edges):\n",
    "        self.unique_edges=deque([all_edges.count(edge)+all_edges.count(edge[::-1])==1 for edge in self.edges])\n",
    "        n=sum(self.unique_edges)\n",
    "        if n==2:\n",
    "            self.type='corner'\n",
    "        elif n==1:\n",
    "            self.type='edge'\n",
    "        else:\n",
    "            self.type='inner'\n",
    "        return self.type\n",
    "    \n",
    "    def orient_top_left_corner(self):\n",
    "        for i in range(4):\n",
    "            if self.unique_edges==deque([True,False,False,True]):\n",
    "                self.assembled=True\n",
    "                return\n",
    "            else:\n",
    "                self.rotate_tile()\n",
    "    \n",
    "    def rotate_tile(self):\n",
    "        self.unique_edges.rotate(1)\n",
    "        self.edges.rotate(1)\n",
    "        self.tile=rotate_picture(self.tile)\n",
    "    \n",
    "    def flip_tile(self):\n",
    "        self.edges=deque([self.edges[i][::-1] for i in [0,3,2,1]])\n",
    "        self.unique_edges=deque([self.unique_edges[i] for i in [0,3,2,1]])\n",
    "        self.tile=flip_picture(self.tile)\n",
    "    \n",
    "    def match(self, other,edge_index):\n",
    "        left_edge=other.edges[edge_index][::-1]\n",
    "        for j in range(2):\n",
    "            for i in range(4):\n",
    "                if left_edge==self.edges[(edge_index+2)%4]:\n",
    "                    self.assembled=True\n",
    "                    return True\n",
    "                self.rotate_tile()\n",
    "            self.flip_tile()\n",
    "        return False\n",
    "\n",
    "def flip_picture(p):\n",
    "    return [x[::-1] for x in p]\n",
    "\n",
    "def rotate_picture(p):\n",
    "    return [''.join(list(x)) for x in zip(*reversed(p))]\n",
    "\n"
   ]
  },
  {
   "cell_type": "code",
   "execution_count": 192,
   "metadata": {},
   "outputs": [],
   "source": [
    "tiles=[]\n",
    "with open('input20.txt', 'r') as f:\n",
    "    inp=f.read().rstrip().split('\\n\\n')\n",
    "for i in inp:\n",
    "    tiles.append(Tile(i))\n",
    "    \n",
    "all_edges=[i for t in tiles for i in t.edges ]\n",
    "\n",
    "corner_tiles=[t for t in tiles if t.get_tile_type(all_edges)=='corner']\n",
    "        \n",
    "corner_tiles[0].orient_top_left_corner()\n",
    "assembled_tiles=[[corner_tiles[0]]]\n",
    "corners_assembled=1\n",
    "\n",
    "                \n",
    "# Assemble rest of puzzle row by row\n",
    "i=1\n",
    "while corners_assembled<4:\n",
    "    if corners_assembled<2 or i<len(assembled_tiles[0]):\n",
    "        if corners_assembled<2:\n",
    "            y=None\n",
    "        else:\n",
    "            y=assembled_tiles[-2][i]\n",
    "        if assembled_tiles[-1]:\n",
    "            x=assembled_tiles[-1][-1]\n",
    "        else:\n",
    "            x=None\n",
    "        for tile in tiles:\n",
    "            if not tile.assembled and (x==None or tile.match(x,1)) and (y==None or tile.match(y,2)):\n",
    "                assembled_tiles[-1].append(tile)\n",
    "                if tile.type=='corner':\n",
    "                    corners_assembled+=1\n",
    "        i+=1\n",
    "    else:\n",
    "        assembled_tiles.append([])\n",
    "        i=0"
   ]
  },
  {
   "cell_type": "code",
   "execution_count": 193,
   "metadata": {},
   "outputs": [
    {
     "name": "stdout",
     "output_type": "stream",
     "text": [
      "Part 1: 18449208814679\n"
     ]
    }
   ],
   "source": [
    "from functools import reduce\n",
    "print(f'Part 1: {reduce(lambda x,y: x*y.id, corner_tiles, 1)}')"
   ]
  },
  {
   "cell_type": "code",
   "execution_count": 194,
   "metadata": {},
   "outputs": [],
   "source": [
    "# join tiles into picture\n",
    "picture=list()\n",
    "join_strings = lambda s: reduce(lambda x,y: x+y,s,'')\n",
    "for row in assembled_tiles:\n",
    "    picture+=[join_strings(s) for s in zip(*[t.tile for t in row])]\n",
    "    \n",
    "monster_string=['                  # ',\n",
    "                '#    ##    ##    ###',\n",
    "                ' #  #  #  #  #  #   ']\n",
    "monster=[]\n",
    "for i in range(len(monster_string)):\n",
    "    for j in range(len(monster_string[0])):\n",
    "        if monster_string[i][j]=='#':\n",
    "            monster.append((i,j))\n",
    "    \n",
    "has_monster=False\n",
    "flipped=False\n",
    "rotated=0\n",
    "while not has_monster and rotated<4:\n",
    "    if flipped:\n",
    "        picture=flip_picture(picture)\n",
    "        picture=rotate_picture(picture)\n",
    "        flipped=False\n",
    "        rotated+=1\n",
    "    else:\n",
    "        picture=flip_picture(picture)\n",
    "        flipped=True\n",
    "    for k in range(len(picture)-len(monster_string)):\n",
    "        for l in range(len(picture)-len(monster_string[0])):\n",
    "            is_monster=True\n",
    "            for i,j in monster:\n",
    "                if picture[k+i][l+j]!='#':\n",
    "                    is_monster=False\n",
    "                    break\n",
    "            if is_monster==True:\n",
    "                has_monster=True\n",
    "                for i,j in monster:\n",
    "                    picture[k+i]=picture[k+i][:l+j]+'O'+picture[k+i][l+j+1:]\n",
    "    \n"
   ]
  },
  {
   "cell_type": "code",
   "execution_count": 195,
   "metadata": {},
   "outputs": [
    {
     "name": "stdout",
     "output_type": "stream",
     "text": [
      "Part 2: 1559\n"
     ]
    }
   ],
   "source": [
    "print(f\"Part 2: {(''.join(picture)).count('#')}\")"
   ]
  },
  {
   "cell_type": "code",
   "execution_count": null,
   "metadata": {},
   "outputs": [],
   "source": []
  }
 ],
 "metadata": {
  "kernelspec": {
   "display_name": "Python 3",
   "language": "python",
   "name": "python3"
  },
  "language_info": {
   "codemirror_mode": {
    "name": "ipython",
    "version": 3
   },
   "file_extension": ".py",
   "mimetype": "text/x-python",
   "name": "python",
   "nbconvert_exporter": "python",
   "pygments_lexer": "ipython3",
   "version": "3.6.10"
  }
 },
 "nbformat": 4,
 "nbformat_minor": 4
}
